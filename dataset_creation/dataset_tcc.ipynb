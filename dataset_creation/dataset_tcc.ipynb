{
 "cells": [
  {
   "cell_type": "code",
   "execution_count": 1,
   "metadata": {},
   "outputs": [],
   "source": [
    "import pandas as pd\n",
    "from tqdm import tqdm"
   ]
  },
  {
   "cell_type": "code",
   "execution_count": 2,
   "metadata": {},
   "outputs": [
    {
     "ename": "FileNotFoundError",
     "evalue": "[Errno 2] No such file or directory: 'data/tcc_ceds_music.csv'",
     "output_type": "error",
     "traceback": [
      "\u001b[0;31m---------------------------------------------------------------------------\u001b[0m",
      "\u001b[0;31mFileNotFoundError\u001b[0m                         Traceback (most recent call last)",
      "Cell \u001b[0;32mIn[2], line 1\u001b[0m\n\u001b[0;32m----> 1\u001b[0m df \u001b[38;5;241m=\u001b[39m \u001b[43mpd\u001b[49m\u001b[38;5;241;43m.\u001b[39;49m\u001b[43mread_csv\u001b[49m\u001b[43m(\u001b[49m\u001b[38;5;124;43m'\u001b[39;49m\u001b[38;5;124;43mdata/tcc_ceds_music.csv\u001b[39;49m\u001b[38;5;124;43m'\u001b[39;49m\u001b[43m)\u001b[49m\n",
      "File \u001b[0;32m~/miniconda3/envs/song_env/lib/python3.9/site-packages/pandas/io/parsers/readers.py:1026\u001b[0m, in \u001b[0;36mread_csv\u001b[0;34m(filepath_or_buffer, sep, delimiter, header, names, index_col, usecols, dtype, engine, converters, true_values, false_values, skipinitialspace, skiprows, skipfooter, nrows, na_values, keep_default_na, na_filter, verbose, skip_blank_lines, parse_dates, infer_datetime_format, keep_date_col, date_parser, date_format, dayfirst, cache_dates, iterator, chunksize, compression, thousands, decimal, lineterminator, quotechar, quoting, doublequote, escapechar, comment, encoding, encoding_errors, dialect, on_bad_lines, delim_whitespace, low_memory, memory_map, float_precision, storage_options, dtype_backend)\u001b[0m\n\u001b[1;32m   1013\u001b[0m kwds_defaults \u001b[38;5;241m=\u001b[39m _refine_defaults_read(\n\u001b[1;32m   1014\u001b[0m     dialect,\n\u001b[1;32m   1015\u001b[0m     delimiter,\n\u001b[0;32m   (...)\u001b[0m\n\u001b[1;32m   1022\u001b[0m     dtype_backend\u001b[38;5;241m=\u001b[39mdtype_backend,\n\u001b[1;32m   1023\u001b[0m )\n\u001b[1;32m   1024\u001b[0m kwds\u001b[38;5;241m.\u001b[39mupdate(kwds_defaults)\n\u001b[0;32m-> 1026\u001b[0m \u001b[38;5;28;01mreturn\u001b[39;00m \u001b[43m_read\u001b[49m\u001b[43m(\u001b[49m\u001b[43mfilepath_or_buffer\u001b[49m\u001b[43m,\u001b[49m\u001b[43m \u001b[49m\u001b[43mkwds\u001b[49m\u001b[43m)\u001b[49m\n",
      "File \u001b[0;32m~/miniconda3/envs/song_env/lib/python3.9/site-packages/pandas/io/parsers/readers.py:620\u001b[0m, in \u001b[0;36m_read\u001b[0;34m(filepath_or_buffer, kwds)\u001b[0m\n\u001b[1;32m    617\u001b[0m _validate_names(kwds\u001b[38;5;241m.\u001b[39mget(\u001b[38;5;124m\"\u001b[39m\u001b[38;5;124mnames\u001b[39m\u001b[38;5;124m\"\u001b[39m, \u001b[38;5;28;01mNone\u001b[39;00m))\n\u001b[1;32m    619\u001b[0m \u001b[38;5;66;03m# Create the parser.\u001b[39;00m\n\u001b[0;32m--> 620\u001b[0m parser \u001b[38;5;241m=\u001b[39m \u001b[43mTextFileReader\u001b[49m\u001b[43m(\u001b[49m\u001b[43mfilepath_or_buffer\u001b[49m\u001b[43m,\u001b[49m\u001b[43m \u001b[49m\u001b[38;5;241;43m*\u001b[39;49m\u001b[38;5;241;43m*\u001b[39;49m\u001b[43mkwds\u001b[49m\u001b[43m)\u001b[49m\n\u001b[1;32m    622\u001b[0m \u001b[38;5;28;01mif\u001b[39;00m chunksize \u001b[38;5;129;01mor\u001b[39;00m iterator:\n\u001b[1;32m    623\u001b[0m     \u001b[38;5;28;01mreturn\u001b[39;00m parser\n",
      "File \u001b[0;32m~/miniconda3/envs/song_env/lib/python3.9/site-packages/pandas/io/parsers/readers.py:1620\u001b[0m, in \u001b[0;36mTextFileReader.__init__\u001b[0;34m(self, f, engine, **kwds)\u001b[0m\n\u001b[1;32m   1617\u001b[0m     \u001b[38;5;28mself\u001b[39m\u001b[38;5;241m.\u001b[39moptions[\u001b[38;5;124m\"\u001b[39m\u001b[38;5;124mhas_index_names\u001b[39m\u001b[38;5;124m\"\u001b[39m] \u001b[38;5;241m=\u001b[39m kwds[\u001b[38;5;124m\"\u001b[39m\u001b[38;5;124mhas_index_names\u001b[39m\u001b[38;5;124m\"\u001b[39m]\n\u001b[1;32m   1619\u001b[0m \u001b[38;5;28mself\u001b[39m\u001b[38;5;241m.\u001b[39mhandles: IOHandles \u001b[38;5;241m|\u001b[39m \u001b[38;5;28;01mNone\u001b[39;00m \u001b[38;5;241m=\u001b[39m \u001b[38;5;28;01mNone\u001b[39;00m\n\u001b[0;32m-> 1620\u001b[0m \u001b[38;5;28mself\u001b[39m\u001b[38;5;241m.\u001b[39m_engine \u001b[38;5;241m=\u001b[39m \u001b[38;5;28;43mself\u001b[39;49m\u001b[38;5;241;43m.\u001b[39;49m\u001b[43m_make_engine\u001b[49m\u001b[43m(\u001b[49m\u001b[43mf\u001b[49m\u001b[43m,\u001b[49m\u001b[43m \u001b[49m\u001b[38;5;28;43mself\u001b[39;49m\u001b[38;5;241;43m.\u001b[39;49m\u001b[43mengine\u001b[49m\u001b[43m)\u001b[49m\n",
      "File \u001b[0;32m~/miniconda3/envs/song_env/lib/python3.9/site-packages/pandas/io/parsers/readers.py:1880\u001b[0m, in \u001b[0;36mTextFileReader._make_engine\u001b[0;34m(self, f, engine)\u001b[0m\n\u001b[1;32m   1878\u001b[0m     \u001b[38;5;28;01mif\u001b[39;00m \u001b[38;5;124m\"\u001b[39m\u001b[38;5;124mb\u001b[39m\u001b[38;5;124m\"\u001b[39m \u001b[38;5;129;01mnot\u001b[39;00m \u001b[38;5;129;01min\u001b[39;00m mode:\n\u001b[1;32m   1879\u001b[0m         mode \u001b[38;5;241m+\u001b[39m\u001b[38;5;241m=\u001b[39m \u001b[38;5;124m\"\u001b[39m\u001b[38;5;124mb\u001b[39m\u001b[38;5;124m\"\u001b[39m\n\u001b[0;32m-> 1880\u001b[0m \u001b[38;5;28mself\u001b[39m\u001b[38;5;241m.\u001b[39mhandles \u001b[38;5;241m=\u001b[39m \u001b[43mget_handle\u001b[49m\u001b[43m(\u001b[49m\n\u001b[1;32m   1881\u001b[0m \u001b[43m    \u001b[49m\u001b[43mf\u001b[49m\u001b[43m,\u001b[49m\n\u001b[1;32m   1882\u001b[0m \u001b[43m    \u001b[49m\u001b[43mmode\u001b[49m\u001b[43m,\u001b[49m\n\u001b[1;32m   1883\u001b[0m \u001b[43m    \u001b[49m\u001b[43mencoding\u001b[49m\u001b[38;5;241;43m=\u001b[39;49m\u001b[38;5;28;43mself\u001b[39;49m\u001b[38;5;241;43m.\u001b[39;49m\u001b[43moptions\u001b[49m\u001b[38;5;241;43m.\u001b[39;49m\u001b[43mget\u001b[49m\u001b[43m(\u001b[49m\u001b[38;5;124;43m\"\u001b[39;49m\u001b[38;5;124;43mencoding\u001b[39;49m\u001b[38;5;124;43m\"\u001b[39;49m\u001b[43m,\u001b[49m\u001b[43m \u001b[49m\u001b[38;5;28;43;01mNone\u001b[39;49;00m\u001b[43m)\u001b[49m\u001b[43m,\u001b[49m\n\u001b[1;32m   1884\u001b[0m \u001b[43m    \u001b[49m\u001b[43mcompression\u001b[49m\u001b[38;5;241;43m=\u001b[39;49m\u001b[38;5;28;43mself\u001b[39;49m\u001b[38;5;241;43m.\u001b[39;49m\u001b[43moptions\u001b[49m\u001b[38;5;241;43m.\u001b[39;49m\u001b[43mget\u001b[49m\u001b[43m(\u001b[49m\u001b[38;5;124;43m\"\u001b[39;49m\u001b[38;5;124;43mcompression\u001b[39;49m\u001b[38;5;124;43m\"\u001b[39;49m\u001b[43m,\u001b[49m\u001b[43m \u001b[49m\u001b[38;5;28;43;01mNone\u001b[39;49;00m\u001b[43m)\u001b[49m\u001b[43m,\u001b[49m\n\u001b[1;32m   1885\u001b[0m \u001b[43m    \u001b[49m\u001b[43mmemory_map\u001b[49m\u001b[38;5;241;43m=\u001b[39;49m\u001b[38;5;28;43mself\u001b[39;49m\u001b[38;5;241;43m.\u001b[39;49m\u001b[43moptions\u001b[49m\u001b[38;5;241;43m.\u001b[39;49m\u001b[43mget\u001b[49m\u001b[43m(\u001b[49m\u001b[38;5;124;43m\"\u001b[39;49m\u001b[38;5;124;43mmemory_map\u001b[39;49m\u001b[38;5;124;43m\"\u001b[39;49m\u001b[43m,\u001b[49m\u001b[43m \u001b[49m\u001b[38;5;28;43;01mFalse\u001b[39;49;00m\u001b[43m)\u001b[49m\u001b[43m,\u001b[49m\n\u001b[1;32m   1886\u001b[0m \u001b[43m    \u001b[49m\u001b[43mis_text\u001b[49m\u001b[38;5;241;43m=\u001b[39;49m\u001b[43mis_text\u001b[49m\u001b[43m,\u001b[49m\n\u001b[1;32m   1887\u001b[0m \u001b[43m    \u001b[49m\u001b[43merrors\u001b[49m\u001b[38;5;241;43m=\u001b[39;49m\u001b[38;5;28;43mself\u001b[39;49m\u001b[38;5;241;43m.\u001b[39;49m\u001b[43moptions\u001b[49m\u001b[38;5;241;43m.\u001b[39;49m\u001b[43mget\u001b[49m\u001b[43m(\u001b[49m\u001b[38;5;124;43m\"\u001b[39;49m\u001b[38;5;124;43mencoding_errors\u001b[39;49m\u001b[38;5;124;43m\"\u001b[39;49m\u001b[43m,\u001b[49m\u001b[43m \u001b[49m\u001b[38;5;124;43m\"\u001b[39;49m\u001b[38;5;124;43mstrict\u001b[39;49m\u001b[38;5;124;43m\"\u001b[39;49m\u001b[43m)\u001b[49m\u001b[43m,\u001b[49m\n\u001b[1;32m   1888\u001b[0m \u001b[43m    \u001b[49m\u001b[43mstorage_options\u001b[49m\u001b[38;5;241;43m=\u001b[39;49m\u001b[38;5;28;43mself\u001b[39;49m\u001b[38;5;241;43m.\u001b[39;49m\u001b[43moptions\u001b[49m\u001b[38;5;241;43m.\u001b[39;49m\u001b[43mget\u001b[49m\u001b[43m(\u001b[49m\u001b[38;5;124;43m\"\u001b[39;49m\u001b[38;5;124;43mstorage_options\u001b[39;49m\u001b[38;5;124;43m\"\u001b[39;49m\u001b[43m,\u001b[49m\u001b[43m \u001b[49m\u001b[38;5;28;43;01mNone\u001b[39;49;00m\u001b[43m)\u001b[49m\u001b[43m,\u001b[49m\n\u001b[1;32m   1889\u001b[0m \u001b[43m\u001b[49m\u001b[43m)\u001b[49m\n\u001b[1;32m   1890\u001b[0m \u001b[38;5;28;01massert\u001b[39;00m \u001b[38;5;28mself\u001b[39m\u001b[38;5;241m.\u001b[39mhandles \u001b[38;5;129;01mis\u001b[39;00m \u001b[38;5;129;01mnot\u001b[39;00m \u001b[38;5;28;01mNone\u001b[39;00m\n\u001b[1;32m   1891\u001b[0m f \u001b[38;5;241m=\u001b[39m \u001b[38;5;28mself\u001b[39m\u001b[38;5;241m.\u001b[39mhandles\u001b[38;5;241m.\u001b[39mhandle\n",
      "File \u001b[0;32m~/miniconda3/envs/song_env/lib/python3.9/site-packages/pandas/io/common.py:873\u001b[0m, in \u001b[0;36mget_handle\u001b[0;34m(path_or_buf, mode, encoding, compression, memory_map, is_text, errors, storage_options)\u001b[0m\n\u001b[1;32m    868\u001b[0m \u001b[38;5;28;01melif\u001b[39;00m \u001b[38;5;28misinstance\u001b[39m(handle, \u001b[38;5;28mstr\u001b[39m):\n\u001b[1;32m    869\u001b[0m     \u001b[38;5;66;03m# Check whether the filename is to be opened in binary mode.\u001b[39;00m\n\u001b[1;32m    870\u001b[0m     \u001b[38;5;66;03m# Binary mode does not support 'encoding' and 'newline'.\u001b[39;00m\n\u001b[1;32m    871\u001b[0m     \u001b[38;5;28;01mif\u001b[39;00m ioargs\u001b[38;5;241m.\u001b[39mencoding \u001b[38;5;129;01mand\u001b[39;00m \u001b[38;5;124m\"\u001b[39m\u001b[38;5;124mb\u001b[39m\u001b[38;5;124m\"\u001b[39m \u001b[38;5;129;01mnot\u001b[39;00m \u001b[38;5;129;01min\u001b[39;00m ioargs\u001b[38;5;241m.\u001b[39mmode:\n\u001b[1;32m    872\u001b[0m         \u001b[38;5;66;03m# Encoding\u001b[39;00m\n\u001b[0;32m--> 873\u001b[0m         handle \u001b[38;5;241m=\u001b[39m \u001b[38;5;28;43mopen\u001b[39;49m\u001b[43m(\u001b[49m\n\u001b[1;32m    874\u001b[0m \u001b[43m            \u001b[49m\u001b[43mhandle\u001b[49m\u001b[43m,\u001b[49m\n\u001b[1;32m    875\u001b[0m \u001b[43m            \u001b[49m\u001b[43mioargs\u001b[49m\u001b[38;5;241;43m.\u001b[39;49m\u001b[43mmode\u001b[49m\u001b[43m,\u001b[49m\n\u001b[1;32m    876\u001b[0m \u001b[43m            \u001b[49m\u001b[43mencoding\u001b[49m\u001b[38;5;241;43m=\u001b[39;49m\u001b[43mioargs\u001b[49m\u001b[38;5;241;43m.\u001b[39;49m\u001b[43mencoding\u001b[49m\u001b[43m,\u001b[49m\n\u001b[1;32m    877\u001b[0m \u001b[43m            \u001b[49m\u001b[43merrors\u001b[49m\u001b[38;5;241;43m=\u001b[39;49m\u001b[43merrors\u001b[49m\u001b[43m,\u001b[49m\n\u001b[1;32m    878\u001b[0m \u001b[43m            \u001b[49m\u001b[43mnewline\u001b[49m\u001b[38;5;241;43m=\u001b[39;49m\u001b[38;5;124;43m\"\u001b[39;49m\u001b[38;5;124;43m\"\u001b[39;49m\u001b[43m,\u001b[49m\n\u001b[1;32m    879\u001b[0m \u001b[43m        \u001b[49m\u001b[43m)\u001b[49m\n\u001b[1;32m    880\u001b[0m     \u001b[38;5;28;01melse\u001b[39;00m:\n\u001b[1;32m    881\u001b[0m         \u001b[38;5;66;03m# Binary mode\u001b[39;00m\n\u001b[1;32m    882\u001b[0m         handle \u001b[38;5;241m=\u001b[39m \u001b[38;5;28mopen\u001b[39m(handle, ioargs\u001b[38;5;241m.\u001b[39mmode)\n",
      "\u001b[0;31mFileNotFoundError\u001b[0m: [Errno 2] No such file or directory: 'data/tcc_ceds_music.csv'"
     ]
    }
   ],
   "source": [
    "df = pd.read_csv('data/tcc_ceds_music.csv')"
   ]
  },
  {
   "cell_type": "code",
   "execution_count": null,
   "metadata": {},
   "outputs": [],
   "source": [
    "df = df[['artist_name', 'track_name', 'genre', 'len',\n",
    "       'lyrics', 'dating', 'violence', 'world/life', 'night/time',\n",
    "       'shake the audience', 'family/gospel', 'romantic', 'communication',\n",
    "       'obscene', 'music', 'movement/places', 'light/visual perceptions',\n",
    "       'family/spiritual', 'like/girls', 'sadness', 'feelings', 'danceability',\n",
    "       'loudness', 'acousticness', 'instrumentalness', 'valence', 'energy',\n",
    "       'topic']]"
   ]
  },
  {
   "cell_type": "code",
   "execution_count": null,
   "metadata": {},
   "outputs": [],
   "source": [
    "df = df[df['len'] >= 75]"
   ]
  },
  {
   "cell_type": "code",
   "execution_count": null,
   "metadata": {},
   "outputs": [
    {
     "name": "stdout",
     "output_type": "stream",
     "text": [
      "hello is an English word: True\n",
      "hyde is an English word: False\n"
     ]
    },
    {
     "name": "stderr",
     "output_type": "stream",
     "text": [
      "[nltk_data] Downloading package words to /Users/shri/nltk_data...\n",
      "[nltk_data]   Package words is already up-to-date!\n"
     ]
    }
   ],
   "source": [
    "import nltk\n",
    "nltk.download('words')\n",
    "\n",
    "from nltk.corpus import words\n",
    "\n",
    "def is_english_word(word):\n",
    "    word = word.lower()\n",
    "    english_words = set(words.words())\n",
    "    return word in english_words\n",
    "\n",
    "# Example usage\n",
    "word1 = 'hello'\n",
    "word2 = 'hyde'\n",
    "\n",
    "print(f'{word1} is an English word: {is_english_word(word1)}')\n",
    "print(f'{word2} is an English word: {is_english_word(word2)}')\n"
   ]
  },
  {
   "cell_type": "code",
   "execution_count": null,
   "metadata": {},
   "outputs": [],
   "source": [
    "import nltk\n",
    "from nltk import wordpunct_tokenize\n",
    "from nltk.corpus import words\n",
    "\n",
    "def is_english(row):\n",
    "    # Tokenize the text into words\n",
    "    tokens = wordpunct_tokenize(row['lyrics'].lower())\n",
    "    \n",
    "    # Get a set of English stopwords\n",
    "    english_words = set(words.words())\n",
    "    \n",
    "    # Calculate the ratio of English words to total words\n",
    "    english_word_ratio = sum(1 for word in tokens if word.lower() in english_words) / len(tokens)\n",
    "    \n",
    "    # If more than 50% of words are in English stopwords, classify as English\n",
    "    if english_word_ratio > 0.8:\n",
    "        return 'English'\n",
    "    else:\n",
    "        return \"Not English\""
   ]
  },
  {
   "cell_type": "code",
   "execution_count": null,
   "metadata": {},
   "outputs": [],
   "source": [
    "tqdm.pandas()"
   ]
  },
  {
   "cell_type": "code",
   "execution_count": null,
   "metadata": {},
   "outputs": [
    {
     "name": "stderr",
     "output_type": "stream",
     "text": [
      "100%|██████████| 11008/11008 [09:03<00:00, 20.25it/s]\n"
     ]
    }
   ],
   "source": [
    "df['language'] = df.progress_apply(is_english, axis=1)"
   ]
  },
  {
   "cell_type": "code",
   "execution_count": null,
   "metadata": {},
   "outputs": [],
   "source": [
    "df.to_csv('data/tcc_ceds_music.csv', index=False)"
   ]
  },
  {
   "cell_type": "code",
   "execution_count": null,
   "metadata": {},
   "outputs": [],
   "source": [
    "df = df[df['language'] == 'English']"
   ]
  },
  {
   "cell_type": "code",
   "execution_count": null,
   "metadata": {},
   "outputs": [
    {
     "data": {
      "text/plain": [
       "0         True\n",
       "1         True\n",
       "2        False\n",
       "3         True\n",
       "4        False\n",
       "         ...  \n",
       "11003    False\n",
       "11004    False\n",
       "11005    False\n",
       "11006     True\n",
       "11007    False\n",
       "Name: language, Length: 11008, dtype: bool"
      ]
     },
     "execution_count": 45,
     "metadata": {},
     "output_type": "execute_result"
    }
   ],
   "source": [
    "df['language'] == 'English'"
   ]
  },
  {
   "cell_type": "code",
   "execution_count": null,
   "metadata": {},
   "outputs": [],
   "source": [
    "chord = pd.read_csv('data/archive-3/chords_and_lyrics.csv')"
   ]
  },
  {
   "cell_type": "code",
   "execution_count": null,
   "metadata": {},
   "outputs": [],
   "source": [
    "def get_intro_data(row):\n",
    "    if 'Intro' in str(row['chords&lyrics']):\n",
    "        return True\n",
    "    else:\n",
    "        return False"
   ]
  },
  {
   "cell_type": "code",
   "execution_count": null,
   "metadata": {},
   "outputs": [
    {
     "name": "stderr",
     "output_type": "stream",
     "text": [
      "100%|██████████| 135783/135783 [00:00<00:00, 293633.70it/s]\n"
     ]
    }
   ],
   "source": [
    "chord['Intro'] = chord.progress_apply(get_intro_data, axis=1)"
   ]
  },
  {
   "cell_type": "code",
   "execution_count": null,
   "metadata": {},
   "outputs": [],
   "source": [
    "chord = chord[chord['Intro']]"
   ]
  },
  {
   "cell_type": "code",
   "execution_count": null,
   "metadata": {},
   "outputs": [],
   "source": [
    "import re\n",
    "\n",
    "def Extract_Chords(row):\n",
    "  \"\"\"Removes all punctuations except for space, alphanumerics, and ,.\"\"\"\n",
    "  allowed_chars = set(\"abcdefghijklmnopqrstuvwxyz ABCDEFGHIJKLMNOPQRSTUVWXYZ0123456789,./#\")\n",
    "  text = row['chords']\n",
    "  text_without_punctuation =  ''.join([char for char in text if char in allowed_chars])\n",
    "  start_index = text_without_punctuation.find(\"Intro\") + len(\"Intro\")\n",
    "  end_condition = False\n",
    "  start_condition = True\n",
    "  for i in range(start_index, len(text_without_punctuation)):\n",
    "    if text_without_punctuation[i] in set(\"abcdefghijklmnopqrstuvwxyzABCDEFGHIJKLMNOPQRSTUVWXYZ\") and start_condition:\n",
    "        start_condition = False\n",
    "        start_point = i\n",
    "        end_condition = True\n",
    "    if text_without_punctuation[i] in \".?!,;\" and end_condition:\n",
    "        end_point = i\n",
    "        break\n",
    "  try:\n",
    "    output = re.sub(r\"\\s+\", \" \", text_without_punctuation[start_point: end_point]).strip(' ').split(' ')\n",
    "  except:\n",
    "    output = None\n",
    "  return output\n"
   ]
  },
  {
   "cell_type": "code",
   "execution_count": null,
   "metadata": {},
   "outputs": [
    {
     "name": "stderr",
     "output_type": "stream",
     "text": [
      "100%|██████████| 65293/65293 [00:02<00:00, 24262.88it/s]\n"
     ]
    }
   ],
   "source": [
    "chord['progression'] = chord.progress_apply(Extract_Chords, axis=1)"
   ]
  },
  {
   "cell_type": "code",
   "execution_count": null,
   "metadata": {},
   "outputs": [],
   "source": [
    "def extract_4_chords(row):\n",
    "    try:\n",
    "        if len(row['progression']) == 4:\n",
    "            return True\n",
    "        else:\n",
    "            return False\n",
    "    except:\n",
    "        return False"
   ]
  },
  {
   "cell_type": "code",
   "execution_count": null,
   "metadata": {},
   "outputs": [
    {
     "name": "stderr",
     "output_type": "stream",
     "text": [
      "100%|██████████| 65293/65293 [00:00<00:00, 353153.25it/s]\n"
     ]
    }
   ],
   "source": [
    "chord['four_progression'] = chord.progress_apply(extract_4_chords, axis=1)"
   ]
  },
  {
   "cell_type": "code",
   "execution_count": null,
   "metadata": {},
   "outputs": [],
   "source": [
    "chord = chord[chord['four_progression']]"
   ]
  },
  {
   "cell_type": "code",
   "execution_count": null,
   "metadata": {},
   "outputs": [
    {
     "data": {
      "text/plain": [
       "Index(['Unnamed: 0', 'artist_name', 'song_name', 'chords&lyrics', 'chords',\n",
       "       'lyrics', 'tabs', 'lang', 'artist_id', 'followers', 'genres',\n",
       "       'popularity', 'name_e_chords', 'Intro', 'progression',\n",
       "       'four_progression'],\n",
       "      dtype='object')"
      ]
     },
     "execution_count": 246,
     "metadata": {},
     "output_type": "execute_result"
    }
   ],
   "source": [
    "chord.columns"
   ]
  },
  {
   "cell_type": "code",
   "execution_count": null,
   "metadata": {},
   "outputs": [
    {
     "data": {
      "text/plain": [
       "10         [F#m, A, C#m, B]\n",
       "21        [E, C#m, G#m, F#]\n",
       "22          [D, Bm, E, F#m]\n",
       "34           [C, Em, Am, G]\n",
       "44           [Am, G, F, Dm]\n",
       "                ...        \n",
       "135720        [B, E, A, F#]\n",
       "135728        [D, C, A, 2x]\n",
       "135733        [D, G, C, Am]\n",
       "135753       [F#m, E, A, E]\n",
       "135767       [ttG, C, G, D]\n",
       "Name: progression, Length: 16872, dtype: object"
      ]
     },
     "execution_count": 247,
     "metadata": {},
     "output_type": "execute_result"
    }
   ],
   "source": [
    "chord['progression']"
   ]
  },
  {
   "cell_type": "code",
   "execution_count": null,
   "metadata": {},
   "outputs": [
    {
     "data": {
      "text/plain": [
       "array(['en', 'es', 'id', 'et', 'af', 'it', 'pt', 'tl', 'nl', 'sw', 'so',\n",
       "       'hr', 'cy', 'de', 'fi', 'fr', 'sv', 'hu', nan, 'tr', 'ca', 'da',\n",
       "       'no'], dtype=object)"
      ]
     },
     "execution_count": 248,
     "metadata": {},
     "output_type": "execute_result"
    }
   ],
   "source": [
    "chord['lang'].unique()"
   ]
  },
  {
   "cell_type": "code",
   "execution_count": null,
   "metadata": {},
   "outputs": [],
   "source": [
    "chord = chord[['lyrics', 'lang', 'genres', 'progression']]"
   ]
  },
  {
   "cell_type": "code",
   "execution_count": null,
   "metadata": {},
   "outputs": [
    {
     "data": {
      "text/plain": [
       "array(['en', 'es', 'id', 'et', 'af', 'it', 'pt', 'tl', 'nl', 'sw', 'so',\n",
       "       'hr', 'cy', 'de', 'fi', 'fr', 'sv', 'hu', nan, 'tr', 'ca', 'da',\n",
       "       'no'], dtype=object)"
      ]
     },
     "execution_count": 250,
     "metadata": {},
     "output_type": "execute_result"
    }
   ],
   "source": [
    "chord['lang'].unique()"
   ]
  },
  {
   "cell_type": "code",
   "execution_count": null,
   "metadata": {},
   "outputs": [],
   "source": [
    "chord = chord[chord['lang'] == 'en']"
   ]
  },
  {
   "cell_type": "code",
   "execution_count": null,
   "metadata": {},
   "outputs": [
    {
     "data": {
      "text/html": [
       "<div>\n",
       "<style scoped>\n",
       "    .dataframe tbody tr th:only-of-type {\n",
       "        vertical-align: middle;\n",
       "    }\n",
       "\n",
       "    .dataframe tbody tr th {\n",
       "        vertical-align: top;\n",
       "    }\n",
       "\n",
       "    .dataframe thead th {\n",
       "        text-align: right;\n",
       "    }\n",
       "</style>\n",
       "<table border=\"1\" class=\"dataframe\">\n",
       "  <thead>\n",
       "    <tr style=\"text-align: right;\">\n",
       "      <th></th>\n",
       "      <th>lyrics</th>\n",
       "      <th>lang</th>\n",
       "      <th>genres</th>\n",
       "      <th>progression</th>\n",
       "    </tr>\n",
       "  </thead>\n",
       "  <tbody>\n",
       "    <tr>\n",
       "      <th>10</th>\n",
       "      <td>{1: '', 3: 'We were inseparable ', 5: ' Everyt...</td>\n",
       "      <td>en</td>\n",
       "      <td>['canadian pop', 'pop', 'post-teen pop']</td>\n",
       "      <td>[F#m, A, C#m, B]</td>\n",
       "    </tr>\n",
       "    <tr>\n",
       "      <th>21</th>\n",
       "      <td>{1: '', 3: 'Show you off, tonight I wanna show...</td>\n",
       "      <td>en</td>\n",
       "      <td>['canadian pop', 'pop', 'post-teen pop']</td>\n",
       "      <td>[E, C#m, G#m, F#]</td>\n",
       "    </tr>\n",
       "    <tr>\n",
       "      <th>22</th>\n",
       "      <td>{0: '\\nCapo on 1st fret\\n\\t  \\t\\t ', 1: ' ', 2...</td>\n",
       "      <td>en</td>\n",
       "      <td>['canadian pop', 'pop', 'post-teen pop']</td>\n",
       "      <td>[D, Bm, E, F#m]</td>\n",
       "    </tr>\n",
       "    <tr>\n",
       "      <th>34</th>\n",
       "      <td>{0: '\\n\\t  \\t\\t', 2: '', 4: 'Come home to me '...</td>\n",
       "      <td>en</td>\n",
       "      <td>['canadian pop', 'pop', 'post-teen pop']</td>\n",
       "      <td>[C, Em, Am, G]</td>\n",
       "    </tr>\n",
       "    <tr>\n",
       "      <th>44</th>\n",
       "      <td>{0: '\\n\\t  \\t\\t', 3: '', 4: 'Verse 1:', 5: '',...</td>\n",
       "      <td>en</td>\n",
       "      <td>['canadian pop', 'pop', 'post-teen pop']</td>\n",
       "      <td>[Am, G, F, Dm]</td>\n",
       "    </tr>\n",
       "    <tr>\n",
       "      <th>...</th>\n",
       "      <td>...</td>\n",
       "      <td>...</td>\n",
       "      <td>...</td>\n",
       "      <td>...</td>\n",
       "    </tr>\n",
       "    <tr>\n",
       "      <th>135720</th>\n",
       "      <td>{2: ' ', 4: \"You don't have to take the bar ex...</td>\n",
       "      <td>en</td>\n",
       "      <td>['alternative rock', 'athens indie', 'classic ...</td>\n",
       "      <td>[B, E, A, F#]</td>\n",
       "    </tr>\n",
       "    <tr>\n",
       "      <th>135728</th>\n",
       "      <td>{0: '\\n\\t  \\t\\t', 1: '', 3: '', 5: 'Empty brea...</td>\n",
       "      <td>en</td>\n",
       "      <td>['alternative rock', 'athens indie', 'classic ...</td>\n",
       "      <td>[D, C, A, 2x]</td>\n",
       "    </tr>\n",
       "    <tr>\n",
       "      <th>135733</th>\n",
       "      <td>{11: ' ', 13: 'This here is the place where I ...</td>\n",
       "      <td>en</td>\n",
       "      <td>['alternative rock', 'athens indie', 'classic ...</td>\n",
       "      <td>[D, G, C, Am]</td>\n",
       "    </tr>\n",
       "    <tr>\n",
       "      <th>135753</th>\n",
       "      <td>{0: '\\n\\t  \\t\\t', 2: '', 3: 'Verse: ', 4: '', ...</td>\n",
       "      <td>en</td>\n",
       "      <td>['classic rock', 'folk', 'folk rock', 'melanch...</td>\n",
       "      <td>[F#m, E, A, E]</td>\n",
       "    </tr>\n",
       "    <tr>\n",
       "      <th>135767</th>\n",
       "      <td>{1: '', 3: 'Mama pyjama rolled outta bed, she ...</td>\n",
       "      <td>en</td>\n",
       "      <td>['classic rock', 'folk', 'folk rock', 'melanch...</td>\n",
       "      <td>[ttG, C, G, D]</td>\n",
       "    </tr>\n",
       "  </tbody>\n",
       "</table>\n",
       "<p>9959 rows × 4 columns</p>\n",
       "</div>"
      ],
      "text/plain": [
       "                                                   lyrics lang  \\\n",
       "10      {1: '', 3: 'We were inseparable ', 5: ' Everyt...   en   \n",
       "21      {1: '', 3: 'Show you off, tonight I wanna show...   en   \n",
       "22      {0: '\\nCapo on 1st fret\\n\\t  \\t\\t ', 1: ' ', 2...   en   \n",
       "34      {0: '\\n\\t  \\t\\t', 2: '', 4: 'Come home to me '...   en   \n",
       "44      {0: '\\n\\t  \\t\\t', 3: '', 4: 'Verse 1:', 5: '',...   en   \n",
       "...                                                   ...  ...   \n",
       "135720  {2: ' ', 4: \"You don't have to take the bar ex...   en   \n",
       "135728  {0: '\\n\\t  \\t\\t', 1: '', 3: '', 5: 'Empty brea...   en   \n",
       "135733  {11: ' ', 13: 'This here is the place where I ...   en   \n",
       "135753  {0: '\\n\\t  \\t\\t', 2: '', 3: 'Verse: ', 4: '', ...   en   \n",
       "135767  {1: '', 3: 'Mama pyjama rolled outta bed, she ...   en   \n",
       "\n",
       "                                                   genres        progression  \n",
       "10               ['canadian pop', 'pop', 'post-teen pop']   [F#m, A, C#m, B]  \n",
       "21               ['canadian pop', 'pop', 'post-teen pop']  [E, C#m, G#m, F#]  \n",
       "22               ['canadian pop', 'pop', 'post-teen pop']    [D, Bm, E, F#m]  \n",
       "34               ['canadian pop', 'pop', 'post-teen pop']     [C, Em, Am, G]  \n",
       "44               ['canadian pop', 'pop', 'post-teen pop']     [Am, G, F, Dm]  \n",
       "...                                                   ...                ...  \n",
       "135720  ['alternative rock', 'athens indie', 'classic ...      [B, E, A, F#]  \n",
       "135728  ['alternative rock', 'athens indie', 'classic ...      [D, C, A, 2x]  \n",
       "135733  ['alternative rock', 'athens indie', 'classic ...      [D, G, C, Am]  \n",
       "135753  ['classic rock', 'folk', 'folk rock', 'melanch...     [F#m, E, A, E]  \n",
       "135767  ['classic rock', 'folk', 'folk rock', 'melanch...     [ttG, C, G, D]  \n",
       "\n",
       "[9959 rows x 4 columns]"
      ]
     },
     "execution_count": 252,
     "metadata": {},
     "output_type": "execute_result"
    }
   ],
   "source": [
    "chord"
   ]
  },
  {
   "cell_type": "code",
   "execution_count": null,
   "metadata": {},
   "outputs": [],
   "source": [
    "def progression_key(row):\n",
    "    return row['progression'][0]"
   ]
  },
  {
   "cell_type": "code",
   "execution_count": null,
   "metadata": {},
   "outputs": [
    {
     "name": "stderr",
     "output_type": "stream",
     "text": [
      "100%|██████████| 9959/9959 [00:00<00:00, 311919.96it/s]\n"
     ]
    }
   ],
   "source": [
    "chord['start_key'] = chord.progress_apply(progression_key, axis=1)"
   ]
  },
  {
   "cell_type": "code",
   "execution_count": null,
   "metadata": {},
   "outputs": [
    {
     "data": {
      "text/html": [
       "<div>\n",
       "<style scoped>\n",
       "    .dataframe tbody tr th:only-of-type {\n",
       "        vertical-align: middle;\n",
       "    }\n",
       "\n",
       "    .dataframe tbody tr th {\n",
       "        vertical-align: top;\n",
       "    }\n",
       "\n",
       "    .dataframe thead th {\n",
       "        text-align: right;\n",
       "    }\n",
       "</style>\n",
       "<table border=\"1\" class=\"dataframe\">\n",
       "  <thead>\n",
       "    <tr style=\"text-align: right;\">\n",
       "      <th></th>\n",
       "      <th>lyrics</th>\n",
       "      <th>lang</th>\n",
       "      <th>genres</th>\n",
       "      <th>progression</th>\n",
       "      <th>start_key</th>\n",
       "    </tr>\n",
       "  </thead>\n",
       "  <tbody>\n",
       "    <tr>\n",
       "      <th>10</th>\n",
       "      <td>{1: '', 3: 'We were inseparable ', 5: ' Everyt...</td>\n",
       "      <td>en</td>\n",
       "      <td>['canadian pop', 'pop', 'post-teen pop']</td>\n",
       "      <td>[F#m, A, C#m, B]</td>\n",
       "      <td>F#m</td>\n",
       "    </tr>\n",
       "    <tr>\n",
       "      <th>21</th>\n",
       "      <td>{1: '', 3: 'Show you off, tonight I wanna show...</td>\n",
       "      <td>en</td>\n",
       "      <td>['canadian pop', 'pop', 'post-teen pop']</td>\n",
       "      <td>[E, C#m, G#m, F#]</td>\n",
       "      <td>E</td>\n",
       "    </tr>\n",
       "    <tr>\n",
       "      <th>22</th>\n",
       "      <td>{0: '\\nCapo on 1st fret\\n\\t  \\t\\t ', 1: ' ', 2...</td>\n",
       "      <td>en</td>\n",
       "      <td>['canadian pop', 'pop', 'post-teen pop']</td>\n",
       "      <td>[D, Bm, E, F#m]</td>\n",
       "      <td>D</td>\n",
       "    </tr>\n",
       "    <tr>\n",
       "      <th>34</th>\n",
       "      <td>{0: '\\n\\t  \\t\\t', 2: '', 4: 'Come home to me '...</td>\n",
       "      <td>en</td>\n",
       "      <td>['canadian pop', 'pop', 'post-teen pop']</td>\n",
       "      <td>[C, Em, Am, G]</td>\n",
       "      <td>C</td>\n",
       "    </tr>\n",
       "    <tr>\n",
       "      <th>44</th>\n",
       "      <td>{0: '\\n\\t  \\t\\t', 3: '', 4: 'Verse 1:', 5: '',...</td>\n",
       "      <td>en</td>\n",
       "      <td>['canadian pop', 'pop', 'post-teen pop']</td>\n",
       "      <td>[Am, G, F, Dm]</td>\n",
       "      <td>Am</td>\n",
       "    </tr>\n",
       "    <tr>\n",
       "      <th>...</th>\n",
       "      <td>...</td>\n",
       "      <td>...</td>\n",
       "      <td>...</td>\n",
       "      <td>...</td>\n",
       "      <td>...</td>\n",
       "    </tr>\n",
       "    <tr>\n",
       "      <th>135720</th>\n",
       "      <td>{2: ' ', 4: \"You don't have to take the bar ex...</td>\n",
       "      <td>en</td>\n",
       "      <td>['alternative rock', 'athens indie', 'classic ...</td>\n",
       "      <td>[B, E, A, F#]</td>\n",
       "      <td>B</td>\n",
       "    </tr>\n",
       "    <tr>\n",
       "      <th>135728</th>\n",
       "      <td>{0: '\\n\\t  \\t\\t', 1: '', 3: '', 5: 'Empty brea...</td>\n",
       "      <td>en</td>\n",
       "      <td>['alternative rock', 'athens indie', 'classic ...</td>\n",
       "      <td>[D, C, A, 2x]</td>\n",
       "      <td>D</td>\n",
       "    </tr>\n",
       "    <tr>\n",
       "      <th>135733</th>\n",
       "      <td>{11: ' ', 13: 'This here is the place where I ...</td>\n",
       "      <td>en</td>\n",
       "      <td>['alternative rock', 'athens indie', 'classic ...</td>\n",
       "      <td>[D, G, C, Am]</td>\n",
       "      <td>D</td>\n",
       "    </tr>\n",
       "    <tr>\n",
       "      <th>135753</th>\n",
       "      <td>{0: '\\n\\t  \\t\\t', 2: '', 3: 'Verse: ', 4: '', ...</td>\n",
       "      <td>en</td>\n",
       "      <td>['classic rock', 'folk', 'folk rock', 'melanch...</td>\n",
       "      <td>[F#m, E, A, E]</td>\n",
       "      <td>F#m</td>\n",
       "    </tr>\n",
       "    <tr>\n",
       "      <th>135767</th>\n",
       "      <td>{1: '', 3: 'Mama pyjama rolled outta bed, she ...</td>\n",
       "      <td>en</td>\n",
       "      <td>['classic rock', 'folk', 'folk rock', 'melanch...</td>\n",
       "      <td>[ttG, C, G, D]</td>\n",
       "      <td>ttG</td>\n",
       "    </tr>\n",
       "  </tbody>\n",
       "</table>\n",
       "<p>9959 rows × 5 columns</p>\n",
       "</div>"
      ],
      "text/plain": [
       "                                                   lyrics lang  \\\n",
       "10      {1: '', 3: 'We were inseparable ', 5: ' Everyt...   en   \n",
       "21      {1: '', 3: 'Show you off, tonight I wanna show...   en   \n",
       "22      {0: '\\nCapo on 1st fret\\n\\t  \\t\\t ', 1: ' ', 2...   en   \n",
       "34      {0: '\\n\\t  \\t\\t', 2: '', 4: 'Come home to me '...   en   \n",
       "44      {0: '\\n\\t  \\t\\t', 3: '', 4: 'Verse 1:', 5: '',...   en   \n",
       "...                                                   ...  ...   \n",
       "135720  {2: ' ', 4: \"You don't have to take the bar ex...   en   \n",
       "135728  {0: '\\n\\t  \\t\\t', 1: '', 3: '', 5: 'Empty brea...   en   \n",
       "135733  {11: ' ', 13: 'This here is the place where I ...   en   \n",
       "135753  {0: '\\n\\t  \\t\\t', 2: '', 3: 'Verse: ', 4: '', ...   en   \n",
       "135767  {1: '', 3: 'Mama pyjama rolled outta bed, she ...   en   \n",
       "\n",
       "                                                   genres        progression  \\\n",
       "10               ['canadian pop', 'pop', 'post-teen pop']   [F#m, A, C#m, B]   \n",
       "21               ['canadian pop', 'pop', 'post-teen pop']  [E, C#m, G#m, F#]   \n",
       "22               ['canadian pop', 'pop', 'post-teen pop']    [D, Bm, E, F#m]   \n",
       "34               ['canadian pop', 'pop', 'post-teen pop']     [C, Em, Am, G]   \n",
       "44               ['canadian pop', 'pop', 'post-teen pop']     [Am, G, F, Dm]   \n",
       "...                                                   ...                ...   \n",
       "135720  ['alternative rock', 'athens indie', 'classic ...      [B, E, A, F#]   \n",
       "135728  ['alternative rock', 'athens indie', 'classic ...      [D, C, A, 2x]   \n",
       "135733  ['alternative rock', 'athens indie', 'classic ...      [D, G, C, Am]   \n",
       "135753  ['classic rock', 'folk', 'folk rock', 'melanch...     [F#m, E, A, E]   \n",
       "135767  ['classic rock', 'folk', 'folk rock', 'melanch...     [ttG, C, G, D]   \n",
       "\n",
       "       start_key  \n",
       "10           F#m  \n",
       "21             E  \n",
       "22             D  \n",
       "34             C  \n",
       "44            Am  \n",
       "...          ...  \n",
       "135720         B  \n",
       "135728         D  \n",
       "135733         D  \n",
       "135753       F#m  \n",
       "135767       ttG  \n",
       "\n",
       "[9959 rows x 5 columns]"
      ]
     },
     "execution_count": 256,
     "metadata": {},
     "output_type": "execute_result"
    }
   ],
   "source": [
    "chord"
   ]
  },
  {
   "cell_type": "code",
   "execution_count": null,
   "metadata": {},
   "outputs": [],
   "source": [
    "def adjust_progression(row):\n",
    "    return row['progression'][1:]"
   ]
  },
  {
   "cell_type": "code",
   "execution_count": null,
   "metadata": {},
   "outputs": [
    {
     "name": "stdout",
     "output_type": "stream",
     "text": [
      "This is a  test  string  with  occurrences.\n"
     ]
    }
   ],
   "source": [
    "import re\n",
    "\n",
    "# Input string with number: occurrences\n",
    "input_string = \"This is a 1: test 2: string 3: with 4: occurrences.\"\n",
    "\n",
    "# Remove all occurrences of number: using regex\n",
    "output_string = re.sub(r'\\d+:', '', input_string)\n",
    "\n",
    "# Print the result\n",
    "print(output_string)\n"
   ]
  },
  {
   "cell_type": "code",
   "execution_count": null,
   "metadata": {},
   "outputs": [],
   "source": [
    "import re\n",
    "\n",
    "# Input string with number: occurrences\n",
    "input_string = lyrics\n",
    "\n",
    "# Remove all occurrences of number: using regex\n",
    "output_string = re.sub(r'\\d+:', '', input_string)\n",
    "output_string = output_string.split('{')[1].split('}')[0]\n",
    "temp_list = output_string.split(',')\n"
   ]
  },
  {
   "cell_type": "code",
   "execution_count": null,
   "metadata": {},
   "outputs": [
    {
     "data": {
      "text/plain": [
       "\" '\\\\nCapo on 3rd fret\\\\n\\\\t  \\\\t\\\\t '\""
      ]
     },
     "execution_count": 336,
     "metadata": {},
     "output_type": "execute_result"
    }
   ],
   "source": [
    "temp_list[0]"
   ]
  },
  {
   "cell_type": "code",
   "execution_count": null,
   "metadata": {},
   "outputs": [
    {
     "name": "stderr",
     "output_type": "stream",
     "text": [
      "100%|██████████| 9959/9959 [00:00<00:00, 272489.94it/s]\n"
     ]
    }
   ],
   "source": [
    "chord['progression'] = chord.progress_apply(adjust_progression, axis=1)"
   ]
  },
  {
   "cell_type": "code",
   "execution_count": null,
   "metadata": {},
   "outputs": [],
   "source": [
    "chord.to_csv('data/golden_data.csv', index=False)"
   ]
  },
  {
   "cell_type": "code",
   "execution_count": null,
   "metadata": {},
   "outputs": [],
   "source": [
    "golden_data = pd.read_csv('data/golden_data.csv')"
   ]
  },
  {
   "cell_type": "code",
   "execution_count": null,
   "metadata": {},
   "outputs": [
    {
     "data": {
      "text/plain": [
       "'{0: \\'\\nCapo on 3rd fret\\n\\t  \\t\\t \\', 1: \\' \\', 2: \\'\\', 4: \\'\\', 5: \\'verse 1 \\', 7: \\'  Ended up on a crossroad \\', 9: \\'Try to figure out which way to go \\', 11: \"It\\'s like you\\'re stuck on a treadmill \", 12: \\'Running in the same place \\', 14: \\'  You got your hazard lights on now \\', 16: \\'Hoping that somebody would slow down \\', 17: \\'Praying for a miracle \\', 19: \"Who\\'ll show you grace? \", 21: \\'Had a couple dollars and a quarter tank of gas \\', 23: \\'With a long journey ahead \\', 25: \\'Seen a truck pull over \\', 27: \\'God sent an angel to help you out \\', 29: \\'He gave you direction \\', 30: \\'Showed you how to read a map \\', 32: \\'With a long journey ahead \\', 34: \"Said it ain\\'t over \", 36: \\'Oh, even in the midst of doubt \\', 37: \\'\\', 38: \\'\\', 40: \\'Life is worth living \\', 42: \\'Life is worth living, so live another day \\', 44: \\'The meaning of forgiveness \\', 46: \"People make mistakes, doesn\\'t mean you have to give in \", 48: \\' Life is worth living again \\', 49: \\'\\', 50: \\'\\', 51: \\'verse 2 \\', 53: \\'  Relationship on a ski slope \\', 55: \"Avalanche comin\\' down slow \", 57: \\'Do we have enough time to salvage this love? \\', 59: \\'  Feels like a blizzard in April \\', 61: \\'Cause my heart is just that cold \\', 62: \\'Skating on thin ice \\', 64: \"But it\\'s strong enough to hold us up \", 66: \\'Seen her scream and holler \\', 67: \\'Put us both on blast \\', 69: \\'Tearing each other down \\', 71: \\'When I thought it was over \\', 73: \\'God sent us an angel to help us out \\', 75: \\'He gave us direction, showed us how to make it last \\', 77: \\'For that long journey ahead \\', 79: \"Said it ain\\'t ever over \", 81: \\'Oh, even in the midst of doubt \\', 82: \\'\\', 83: \\' \\', 85: \\'Life is worth living \\', 87: \\'Life is worth living, so live another day \\', 89: \\'The meaning of forgiveness \\', 91: \"People make mistakes, doesn\\'t mean you have to give in \", 93: \\' Life is worth living again \\', 95: \\' Life is worth living again \\', 96: \\'\\', 97: \\'\\', 100: \" What I\\'d give for my affection \", 102: \\'Is a different perception \\', 104: \\'From what the world may see \\', 106: \\'They try to crucify me \\', 108: \"I ain\\'t perfect, won\\'t deny \", 110: \"My reputation\\'s on the line \", 112: \"So I\\'m working on a better me \", 113: \\'\\', 114: \\'\\', 116: \\'Life is worth living \\', 118: \\'Life is worth living, so live another day \\', 120: \\'The meaning of forgiveness \\', 122: \\'People make mistakes \\', 124: \\'Only God can judge me \\', 126: \\'  Life is worth living again \\', 128: \\'Another day \\', 130: \\'Life is worth living again  \\', 131: \\'\\t\\t  \\n\\'}'"
      ]
     },
     "execution_count": 314,
     "metadata": {},
     "output_type": "execute_result"
    }
   ],
   "source": [
    "unescaped_string = bytes(lyrics, 'utf-8').decode('unicode_escape')\n",
    "unescaped_string"
   ]
  },
  {
   "cell_type": "code",
   "execution_count": null,
   "metadata": {},
   "outputs": [],
   "source": [
    "import pandas as pd\n",
    "golden_data = pd.read_csv('data/golden_data.csv')"
   ]
  },
  {
   "cell_type": "code",
   "execution_count": null,
   "metadata": {},
   "outputs": [],
   "source": [
    "import re\n",
    "def process_lyrics(row):\n",
    "    lyrics = row['lyrics']\n",
    "    output_string = re.sub(r'\\d+:', '', lyrics)\n",
    "    output_string = output_string.split('{')[1].split('}')[0]\n",
    "\n",
    "    stripped_list = []\n",
    "    \n",
    "    for string in output_string.split(','):\n",
    "        process = False\n",
    "        for char in string:\n",
    "            if char.isalpha():\n",
    "                process =  True\n",
    "                break\n",
    "        if process:\n",
    "            stripped_list.append(string.strip().strip(\"'\").strip('\"'))\n",
    "        else:\n",
    "            stripped_list.append('')\n",
    "    return '\\n'.join(stripped_list)"
   ]
  },
  {
   "cell_type": "code",
   "execution_count": null,
   "metadata": {},
   "outputs": [],
   "source": [
    "from tqdm import tqdm\n",
    "tqdm.pandas()"
   ]
  },
  {
   "cell_type": "code",
   "execution_count": null,
   "metadata": {},
   "outputs": [
    {
     "name": "stderr",
     "output_type": "stream",
     "text": [
      "100%|██████████| 9959/9959 [00:00<00:00, 20239.24it/s]\n"
     ]
    }
   ],
   "source": [
    "golden_data['processed_lyrics'] = golden_data.progress_apply(process_lyrics, axis=1)"
   ]
  },
  {
   "cell_type": "code",
   "execution_count": null,
   "metadata": {},
   "outputs": [
    {
     "data": {
      "text/plain": [
       "\"\\nYou know you can call me if you need someone \\nI'll pick up the pieces if you come undone \\n\\nPre-Chorus\\nPainting stars up on your ceiling 'cause you \\nWish that you could find some feeling\\nyeah\\nyou \\nYou know you can call me if you need someone      \\n\\n\\n\\nI need you to hold on \\nHeaven is a place not too far away \\nWe all know I should be the one to say we all make mistakes  \\n(We all make mistakes) \\nTake my hand and hold on \\nTell me everything that you need to say \\n'Cause I know how it feels to be someone \\nFeels to be someone who loses their way \\n\\nYou're looking for answers in a place unknown \\nYou need the connection but you can't get close (Can't get close) \\n\\nPre-Chorus\\nPainting stars up on your ceiling 'cause you \\nWish that you could find some feeling\\nyeah\\nyou \\nYou know you can call me if you need someone    \\n\\n\\n\\nI need you to hold on \\nHeaven is a place not too far away \\nWe all know I should be the one to say we all make mistakes  \\n(We all make mistakes) \\nTake my hand and hold on \\nTell me everything that you need to say \\n'Cause I know how it feels to be someone \\nFeels to be someone who loses their way \\n\\nMidnight 'til morning \\nCall if you need somebody \\nI will be there for you (I will be there for you) \\nMidnight 'til morning \\nCall if you need somebody \\nI will be there for you \\n\\n\\nI need you to hold on \\nHeaven is a place not too far away \\nWe all know I should be the one to say we all make mistakes  \\n(We all make mistakes) \\nTake my hand and hold on \\nTell me everything that you need to say \\n'Cause I know how it feels to be someone \\nFeels to be someone who loses their way \\n\\n\\n\\nMidnight 'til morning \\nCall if you need somebody \\nI will be there for you (I will be there for you) \\nMidnight 'til morning \\nCall if you need somebody \\nI will be there for you \\n\\\\t\\\\t  \\\\n\""
      ]
     },
     "execution_count": 42,
     "metadata": {},
     "output_type": "execute_result"
    }
   ],
   "source": [
    "golden_data['processed_lyrics'][7]"
   ]
  },
  {
   "cell_type": "code",
   "execution_count": null,
   "metadata": {},
   "outputs": [
    {
     "name": "stdout",
     "output_type": "stream",
     "text": [
      "\\n\\t  \\t\\t\n",
      "\n",
      "\n",
      "\n",
      "verse 1 \n",
      "I was good on my own\n",
      "that's the way it was\n",
      "that's the way it was \n",
      "You was good on the low for a faded fuck\n",
      "on some faded love \n",
      "Shit\n",
      "what the fuck you complaining for? Feeling jaded huh? \n",
      "Used to trip off that shit I was kickin' to you \n",
      "Had some fun on the run though I give it to you \n",
      "\n",
      "\n",
      "Pre-Chorus \n",
      "But baby\n",
      "don't get it twisted \n",
      "You was just another nigga on the hit list \n",
      "Tryna fix your inner issues with a bad bitch \n",
      "Didn't they tell you that I was a savage \n",
      "Fuck your white horse and a carriage \n",
      "Bet you never could imagine \n",
      "Never told you you could have it \n",
      "\n",
      "\n",
      "You nee-deeded me \n",
      "Oooh\n",
      "you nee-deeded me \n",
      "To feel a little more\n",
      "and give a little less \n",
      "Know you're here to confess \n",
      "But baby who\n",
      "you nee-deeded me \n",
      "\n",
      "\n",
      "verse 2 \n",
      "You been rollin' around\n",
      "shit I'm rollin up \n",
      "Light and roll it up \n",
      "Break it down like a pound\n",
      "shit was never us \n",
      "Shit was never us \n",
      "That's the real on the real\n",
      "are you serious? \n",
      "How you feel\n",
      "how you feel? \n",
      "Used to trip off that shit I was kickin' to ya \n",
      "Had some fun on the run though\n",
      "I give it to ya \n",
      "\n",
      "\n",
      "Pre-Chorus \n",
      "But baby\n",
      "don't get it twisted \n",
      "You was just another nigga on the hit list \n",
      "Tryna fix your inner issues with a bad bitch \n",
      "Didn't they tell you that I was a savage \n",
      "Fuck your white horse and a carriage \n",
      "Bet you never could imagine \n",
      "Never told you you could have it \n",
      "\n",
      "\n",
      "\n",
      "You nee-deeded me \n",
      "Oooh\n",
      "you nee-deeded me \n",
      "To feel a little more\n",
      "and give a little less \n",
      "Know you're here to confess \n",
      "But baby who\n",
      "you nee-deeded me \n",
      "\n",
      "\n",
      "\\t\\t  \\n\n"
     ]
    }
   ],
   "source": [
    "print(golden_data['processed_lyrics'][180])"
   ]
  },
  {
   "cell_type": "code",
   "execution_count": null,
   "metadata": {},
   "outputs": [],
   "source": [
    "import json"
   ]
  },
  {
   "cell_type": "code",
   "execution_count": null,
   "metadata": {},
   "outputs": [
    {
     "data": {
      "text/plain": [
       "'{1: \\'\\', 3: \\'We were inseparable \\', 5: \\' Everything I had to do I did it next to you \\', 7: \\'And the memories we made were so incredible \\', 9: \\'Then our love was interrupted by my schedule \\', 11: \\'There was nothing that I could do \\', 13: \\'Cause you fell into the deepest depression baby \\', 15: \"And I hate to know I\\'m responsible \", 17: \\'And your heart filled up with so much aggression baby \\', 19: \\'You got used to \\', 20: \\'\\', 22: \\'Being alone, alone \\', 24: \\'You adapted, now your use to \\', 26: \\'Being alone, all alone \\', 28: \\'Ooo you got used too being on your own \\', 29: \\'\\', 31: \"I saw it happenin\\' \", 33: \"But I didn\\'t accept the truth, I couldn\\'t fathom it \", 35: \"There was so much going on you couldn\\'t handle it \", 37: \\'Could have divided my time, I should have fractioned it \\', 39: \\'But there was nothing that I could do \\', 41: \\'Cause you fell into the deepest depression baby \\', 43: \"And I hate to know I\\'m responsible \", 45: \\'And your heart filled up with so much aggression baby \\', 47: \\'You got used to \\', 48: \\'\\', 50: \\'Being alone, alone (all alone) \\', 52: \\'You adapted (you adapted), now your use to \\', 54: \"Being alone, all alone (didn\\'t mean to leave you lonely girl) \", 56: \\'Ooo you got used too being (used to) on your own (all on your own) \\', 57: \\'\\\\t\\\\t  \\\\n\\'}'"
      ]
     },
     "execution_count": 290,
     "metadata": {},
     "output_type": "execute_result"
    }
   ],
   "source": [
    "golden_data['lyrics'][0]"
   ]
  },
  {
   "cell_type": "code",
   "execution_count": null,
   "metadata": {},
   "outputs": [
    {
     "name": "stdout",
     "output_type": "stream",
     "text": [
      "{1: '', 3: 'We were inseparable ', 5: ' Everything I had to do I did it next to you ', 7: 'And the memories we made were so incredible ', 9: 'Then our love was interrupted by my schedule ', 11: 'There was nothing that I could do ', 13: 'Cause you fell into the deepest depression baby ', 15: \"And I hate to know I'm responsible \", 17: 'And your heart filled up with so much aggression baby ', 19: 'You got used to ', 20: '', 22: 'Being alone, alone ', 24: 'You adapted, now your use to ', 26: 'Being alone, all alone ', 28: 'Ooo you got used too being on your own ', 29: '', 31: \"I saw it happenin' \", 33: \"But I didn't accept the truth, I couldn't fathom it \", 35: \"There was so much going on you couldn't handle it \", 37: 'Could have divided my time, I should have fractioned it ', 39: 'But there was nothing that I could do ', 41: 'Cause you fell into the deepest depression baby ', 43: \"And I hate to know I'm responsible \", 45: 'And your heart filled up with so much aggression baby ', 47: 'You got used to ', 48: '', 50: 'Being alone, alone (all alone) ', 52: 'You adapted (you adapted), now your use to ', 54: \"Being alone, all alone (didn't mean to leave you lonely girl) \", 56: 'Ooo you got used too being (used to) on your own (all on your own) ', 57: '\\t\\t  \\n'}\n"
     ]
    }
   ],
   "source": [
    "print(golden_data['lyrics'][0])"
   ]
  },
  {
   "cell_type": "code",
   "execution_count": null,
   "metadata": {},
   "outputs": [],
   "source": [
    "data_string = golden_data['lyrics'][0]"
   ]
  },
  {
   "cell_type": "code",
   "execution_count": null,
   "metadata": {},
   "outputs": [
    {
     "data": {
      "text/plain": [
       "[\"{1: ''\",\n",
       " \" 3: 'We were inseparable '\",\n",
       " \" 5: ' Everything I had to do I did it next to you '\",\n",
       " \" 7: 'And the memories we made were so incredible '\",\n",
       " \" 9: 'Then our love was interrupted by my schedule '\",\n",
       " \" 11: 'There was nothing that I could do '\",\n",
       " \" 13: 'Cause you fell into the deepest depression baby '\",\n",
       " ' 15: \"And I hate to know I\\'m responsible \"',\n",
       " \" 17: 'And your heart filled up with so much aggression baby '\",\n",
       " \" 19: 'You got used to '\",\n",
       " \" 20: ''\",\n",
       " \" 22: 'Being alone\",\n",
       " \" alone '\",\n",
       " \" 24: 'You adapted\",\n",
       " \" now your use to '\",\n",
       " \" 26: 'Being alone\",\n",
       " \" all alone '\",\n",
       " \" 28: 'Ooo you got used too being on your own '\",\n",
       " \" 29: ''\",\n",
       " ' 31: \"I saw it happenin\\' \"',\n",
       " ' 33: \"But I didn\\'t accept the truth',\n",
       " ' I couldn\\'t fathom it \"',\n",
       " ' 35: \"There was so much going on you couldn\\'t handle it \"',\n",
       " \" 37: 'Could have divided my time\",\n",
       " \" I should have fractioned it '\",\n",
       " \" 39: 'But there was nothing that I could do '\",\n",
       " \" 41: 'Cause you fell into the deepest depression baby '\",\n",
       " ' 43: \"And I hate to know I\\'m responsible \"',\n",
       " \" 45: 'And your heart filled up with so much aggression baby '\",\n",
       " \" 47: 'You got used to '\",\n",
       " \" 48: ''\",\n",
       " \" 50: 'Being alone\",\n",
       " \" alone (all alone) '\",\n",
       " \" 52: 'You adapted (you adapted)\",\n",
       " \" now your use to '\",\n",
       " ' 54: \"Being alone',\n",
       " ' all alone (didn\\'t mean to leave you lonely girl) \"',\n",
       " \" 56: 'Ooo you got used too being (used to) on your own (all on your own) '\",\n",
       " \" 57: '\\\\t\\\\t  \\\\n'}\"]"
      ]
     },
     "execution_count": 294,
     "metadata": {},
     "output_type": "execute_result"
    }
   ],
   "source": [
    "golden_data['lyrics'][0].split(',')"
   ]
  },
  {
   "cell_type": "code",
   "execution_count": null,
   "metadata": {},
   "outputs": [],
   "source": [
    "import re\n",
    "\n",
    "def extract_text_regex(line):\n",
    "  \"\"\"\n",
    "  Extracts text from a line using regular expressions.\n",
    "\n",
    "  Args:\n",
    "      line: The line to extract text from.\n",
    "\n",
    "  Returns:\n",
    "      The string containing the extracted text.\n",
    "  \"\"\"\n",
    "  # Define a pattern to match only alphanumeric characters and spaces\n",
    "  pattern = r\"[a-zA-Z\\s\\-_,']+\"\n",
    "  # Find all occurrences of the pattern in the line\n",
    "  matches = re.findall(pattern, line)\n",
    "  # Join the matches to form a single string\n",
    "  return ''.join(matches)"
   ]
  },
  {
   "cell_type": "code",
   "execution_count": null,
   "metadata": {},
   "outputs": [
    {
     "data": {
      "text/plain": [
       "\"  'We were inseparable '\""
      ]
     },
     "execution_count": 300,
     "metadata": {},
     "output_type": "execute_result"
    }
   ],
   "source": [
    "extract_text_regex(golden_data['lyrics'][0].split(',')[1])"
   ]
  },
  {
   "cell_type": "code",
   "execution_count": null,
   "metadata": {},
   "outputs": [
    {
     "ename": "ValueError",
     "evalue": "invalid literal for int() with base 10: '{1'",
     "output_type": "error",
     "traceback": [
      "\u001b[0;31m---------------------------------------------------------------------------\u001b[0m",
      "\u001b[0;31mValueError\u001b[0m                                Traceback (most recent call last)",
      "Cell \u001b[0;32mIn[292], line 14\u001b[0m\n\u001b[1;32m     12\u001b[0m   value \u001b[38;5;241m=\u001b[39m value\u001b[38;5;241m.\u001b[39mstrip()\n\u001b[1;32m     13\u001b[0m   \u001b[38;5;66;03m# Add the key-value pair to the dictionary\u001b[39;00m\n\u001b[0;32m---> 14\u001b[0m   formatted_data[\u001b[38;5;28;43mint\u001b[39;49m\u001b[43m(\u001b[49m\u001b[43mkey\u001b[49m\u001b[43m)\u001b[49m] \u001b[38;5;241m=\u001b[39m value\n\u001b[1;32m     16\u001b[0m \u001b[38;5;66;03m# Print the formatted dictionary\u001b[39;00m\n\u001b[1;32m     17\u001b[0m \u001b[38;5;28mprint\u001b[39m(formatted_data)\n",
      "\u001b[0;31mValueError\u001b[0m: invalid literal for int() with base 10: '{1'"
     ]
    }
   ],
   "source": [
    "# Split the data string by lines\n",
    "data_lines = data_string.splitlines()\n",
    "\n",
    "# Create an empty dictionary to store the formatted data\n",
    "formatted_data = {}\n",
    "\n",
    "# Loop through each line\n",
    "for line in data_lines:\n",
    "  # Split the line by colon (\":\")\n",
    "  key, value = line.split(\": \", 1)\n",
    "  # Remove extra spaces from the value\n",
    "  value = value.strip()\n",
    "  # Add the key-value pair to the dictionary\n",
    "  formatted_data[int(key)] = value\n",
    "\n",
    "# Print the formatted dictionary\n",
    "print(formatted_data)"
   ]
  },
  {
   "cell_type": "code",
   "execution_count": null,
   "metadata": {},
   "outputs": [
    {
     "data": {
      "text/html": [
       "<div>\n",
       "<style scoped>\n",
       "    .dataframe tbody tr th:only-of-type {\n",
       "        vertical-align: middle;\n",
       "    }\n",
       "\n",
       "    .dataframe tbody tr th {\n",
       "        vertical-align: top;\n",
       "    }\n",
       "\n",
       "    .dataframe thead th {\n",
       "        text-align: right;\n",
       "    }\n",
       "</style>\n",
       "<table border=\"1\" class=\"dataframe\">\n",
       "  <thead>\n",
       "    <tr style=\"text-align: right;\">\n",
       "      <th></th>\n",
       "      <th>lyrics</th>\n",
       "      <th>lang</th>\n",
       "      <th>genres</th>\n",
       "      <th>progression</th>\n",
       "      <th>start_key</th>\n",
       "    </tr>\n",
       "  </thead>\n",
       "  <tbody>\n",
       "    <tr>\n",
       "      <th>0</th>\n",
       "      <td>{1: '', 3: 'We were inseparable ', 5: ' Everyt...</td>\n",
       "      <td>en</td>\n",
       "      <td>['canadian pop', 'pop', 'post-teen pop']</td>\n",
       "      <td>['A', 'C#m', 'B']</td>\n",
       "      <td>F#m</td>\n",
       "    </tr>\n",
       "    <tr>\n",
       "      <th>1</th>\n",
       "      <td>{1: '', 3: 'Show you off, tonight I wanna show...</td>\n",
       "      <td>en</td>\n",
       "      <td>['canadian pop', 'pop', 'post-teen pop']</td>\n",
       "      <td>['C#m', 'G#m', 'F#']</td>\n",
       "      <td>E</td>\n",
       "    </tr>\n",
       "    <tr>\n",
       "      <th>2</th>\n",
       "      <td>{0: '\\nCapo on 1st fret\\n\\t  \\t\\t ', 1: ' ', 2...</td>\n",
       "      <td>en</td>\n",
       "      <td>['canadian pop', 'pop', 'post-teen pop']</td>\n",
       "      <td>['Bm', 'E', 'F#m']</td>\n",
       "      <td>D</td>\n",
       "    </tr>\n",
       "    <tr>\n",
       "      <th>3</th>\n",
       "      <td>{0: '\\n\\t  \\t\\t', 2: '', 4: 'Come home to me '...</td>\n",
       "      <td>en</td>\n",
       "      <td>['canadian pop', 'pop', 'post-teen pop']</td>\n",
       "      <td>['Em', 'Am', 'G']</td>\n",
       "      <td>C</td>\n",
       "    </tr>\n",
       "    <tr>\n",
       "      <th>4</th>\n",
       "      <td>{0: '\\n\\t  \\t\\t', 3: '', 4: 'Verse 1:', 5: '',...</td>\n",
       "      <td>en</td>\n",
       "      <td>['canadian pop', 'pop', 'post-teen pop']</td>\n",
       "      <td>['G', 'F', 'Dm']</td>\n",
       "      <td>Am</td>\n",
       "    </tr>\n",
       "    <tr>\n",
       "      <th>...</th>\n",
       "      <td>...</td>\n",
       "      <td>...</td>\n",
       "      <td>...</td>\n",
       "      <td>...</td>\n",
       "      <td>...</td>\n",
       "    </tr>\n",
       "    <tr>\n",
       "      <th>9954</th>\n",
       "      <td>{2: ' ', 4: \"You don't have to take the bar ex...</td>\n",
       "      <td>en</td>\n",
       "      <td>['alternative rock', 'athens indie', 'classic ...</td>\n",
       "      <td>['E', 'A', 'F#']</td>\n",
       "      <td>B</td>\n",
       "    </tr>\n",
       "    <tr>\n",
       "      <th>9955</th>\n",
       "      <td>{0: '\\n\\t  \\t\\t', 1: '', 3: '', 5: 'Empty brea...</td>\n",
       "      <td>en</td>\n",
       "      <td>['alternative rock', 'athens indie', 'classic ...</td>\n",
       "      <td>['C', 'A', '2x']</td>\n",
       "      <td>D</td>\n",
       "    </tr>\n",
       "    <tr>\n",
       "      <th>9956</th>\n",
       "      <td>{11: ' ', 13: 'This here is the place where I ...</td>\n",
       "      <td>en</td>\n",
       "      <td>['alternative rock', 'athens indie', 'classic ...</td>\n",
       "      <td>['G', 'C', 'Am']</td>\n",
       "      <td>D</td>\n",
       "    </tr>\n",
       "    <tr>\n",
       "      <th>9957</th>\n",
       "      <td>{0: '\\n\\t  \\t\\t', 2: '', 3: 'Verse: ', 4: '', ...</td>\n",
       "      <td>en</td>\n",
       "      <td>['classic rock', 'folk', 'folk rock', 'melanch...</td>\n",
       "      <td>['E', 'A', 'E']</td>\n",
       "      <td>F#m</td>\n",
       "    </tr>\n",
       "    <tr>\n",
       "      <th>9958</th>\n",
       "      <td>{1: '', 3: 'Mama pyjama rolled outta bed, she ...</td>\n",
       "      <td>en</td>\n",
       "      <td>['classic rock', 'folk', 'folk rock', 'melanch...</td>\n",
       "      <td>['C', 'G', 'D']</td>\n",
       "      <td>ttG</td>\n",
       "    </tr>\n",
       "  </tbody>\n",
       "</table>\n",
       "<p>9959 rows × 5 columns</p>\n",
       "</div>"
      ],
      "text/plain": [
       "                                                 lyrics lang  \\\n",
       "0     {1: '', 3: 'We were inseparable ', 5: ' Everyt...   en   \n",
       "1     {1: '', 3: 'Show you off, tonight I wanna show...   en   \n",
       "2     {0: '\\nCapo on 1st fret\\n\\t  \\t\\t ', 1: ' ', 2...   en   \n",
       "3     {0: '\\n\\t  \\t\\t', 2: '', 4: 'Come home to me '...   en   \n",
       "4     {0: '\\n\\t  \\t\\t', 3: '', 4: 'Verse 1:', 5: '',...   en   \n",
       "...                                                 ...  ...   \n",
       "9954  {2: ' ', 4: \"You don't have to take the bar ex...   en   \n",
       "9955  {0: '\\n\\t  \\t\\t', 1: '', 3: '', 5: 'Empty brea...   en   \n",
       "9956  {11: ' ', 13: 'This here is the place where I ...   en   \n",
       "9957  {0: '\\n\\t  \\t\\t', 2: '', 3: 'Verse: ', 4: '', ...   en   \n",
       "9958  {1: '', 3: 'Mama pyjama rolled outta bed, she ...   en   \n",
       "\n",
       "                                                 genres           progression  \\\n",
       "0              ['canadian pop', 'pop', 'post-teen pop']     ['A', 'C#m', 'B']   \n",
       "1              ['canadian pop', 'pop', 'post-teen pop']  ['C#m', 'G#m', 'F#']   \n",
       "2              ['canadian pop', 'pop', 'post-teen pop']    ['Bm', 'E', 'F#m']   \n",
       "3              ['canadian pop', 'pop', 'post-teen pop']     ['Em', 'Am', 'G']   \n",
       "4              ['canadian pop', 'pop', 'post-teen pop']      ['G', 'F', 'Dm']   \n",
       "...                                                 ...                   ...   \n",
       "9954  ['alternative rock', 'athens indie', 'classic ...      ['E', 'A', 'F#']   \n",
       "9955  ['alternative rock', 'athens indie', 'classic ...      ['C', 'A', '2x']   \n",
       "9956  ['alternative rock', 'athens indie', 'classic ...      ['G', 'C', 'Am']   \n",
       "9957  ['classic rock', 'folk', 'folk rock', 'melanch...       ['E', 'A', 'E']   \n",
       "9958  ['classic rock', 'folk', 'folk rock', 'melanch...       ['C', 'G', 'D']   \n",
       "\n",
       "     start_key  \n",
       "0          F#m  \n",
       "1            E  \n",
       "2            D  \n",
       "3            C  \n",
       "4           Am  \n",
       "...        ...  \n",
       "9954         B  \n",
       "9955         D  \n",
       "9956         D  \n",
       "9957       F#m  \n",
       "9958       ttG  \n",
       "\n",
       "[9959 rows x 5 columns]"
      ]
     },
     "execution_count": 289,
     "metadata": {},
     "output_type": "execute_result"
    }
   ],
   "source": [
    "golden_data"
   ]
  },
  {
   "cell_type": "code",
   "execution_count": null,
   "metadata": {},
   "outputs": [
    {
     "name": "stdout",
     "output_type": "stream",
     "text": [
      "{1: '', 3: 'We were inseparable ', 5: ' Everything I had to do I did it next to you ', 7: 'And the memories we made were so incredible ', 9: 'Then our love was interrupted by my schedule ', 11: 'There was nothing that I could do ', 13: 'Cause you fell into the deepest depression baby ', 15: \"And I hate to know I'm responsible \", 17: 'And your heart filled up with so much aggression baby ', 19: 'You got used to ', 20: '', 22: 'Being alone, alone ', 24: 'You adapted, now your use to ', 26: 'Being alone, all alone ', 28: 'Ooo you got used too being on your own ', 29: '', 31: \"I saw it happenin' \", 33: \"But I didn't accept the truth, I couldn't fathom it \", 35: \"There was so much going on you couldn't handle it \", 37: 'Could have divided my time, I should have fractioned it ', 39: 'But there was nothing that I could do ', 41: 'Cause you fell into the deepest depression baby ', 43: \"And I hate to know I'm responsible \", 45: 'And your heart filled up with so much aggression baby ', 47: 'You got used to ', 48: '', 50: 'Being alone, alone (all alone) ', 52: 'You adapted (you adapted), now your use to ', 54: \"Being alone, all alone (didn't mean to leave you lonely girl) \", 56: 'Ooo you got used too being (used to) on your own (all on your own) ', 57: '\\t\\t  \\n'}\n"
     ]
    }
   ],
   "source": [
    "print(golden_data['lyrics'][0].replace(\"\\'\", \"'\"))"
   ]
  },
  {
   "cell_type": "code",
   "execution_count": null,
   "metadata": {},
   "outputs": [
    {
     "ename": "JSONDecodeError",
     "evalue": "Expecting property name enclosed in double quotes: line 1 column 2 (char 1)",
     "output_type": "error",
     "traceback": [
      "\u001b[0;31m---------------------------------------------------------------------------\u001b[0m",
      "\u001b[0;31mJSONDecodeError\u001b[0m                           Traceback (most recent call last)",
      "Cell \u001b[0;32mIn[271], line 1\u001b[0m\n\u001b[0;32m----> 1\u001b[0m \u001b[43mjson\u001b[49m\u001b[38;5;241;43m.\u001b[39;49m\u001b[43mloads\u001b[49m\u001b[43m(\u001b[49m\u001b[43mgolden_data\u001b[49m\u001b[43m[\u001b[49m\u001b[38;5;124;43m'\u001b[39;49m\u001b[38;5;124;43mlyrics\u001b[39;49m\u001b[38;5;124;43m'\u001b[39;49m\u001b[43m]\u001b[49m\u001b[43m[\u001b[49m\u001b[38;5;241;43m0\u001b[39;49m\u001b[43m]\u001b[49m\u001b[43m)\u001b[49m\n",
      "File \u001b[0;32m~/Documents/programming_environments/nlp_env/lib/python3.12/json/__init__.py:346\u001b[0m, in \u001b[0;36mloads\u001b[0;34m(s, cls, object_hook, parse_float, parse_int, parse_constant, object_pairs_hook, **kw)\u001b[0m\n\u001b[1;32m    341\u001b[0m     s \u001b[38;5;241m=\u001b[39m s\u001b[38;5;241m.\u001b[39mdecode(detect_encoding(s), \u001b[38;5;124m'\u001b[39m\u001b[38;5;124msurrogatepass\u001b[39m\u001b[38;5;124m'\u001b[39m)\n\u001b[1;32m    343\u001b[0m \u001b[38;5;28;01mif\u001b[39;00m (\u001b[38;5;28mcls\u001b[39m \u001b[38;5;129;01mis\u001b[39;00m \u001b[38;5;28;01mNone\u001b[39;00m \u001b[38;5;129;01mand\u001b[39;00m object_hook \u001b[38;5;129;01mis\u001b[39;00m \u001b[38;5;28;01mNone\u001b[39;00m \u001b[38;5;129;01mand\u001b[39;00m\n\u001b[1;32m    344\u001b[0m         parse_int \u001b[38;5;129;01mis\u001b[39;00m \u001b[38;5;28;01mNone\u001b[39;00m \u001b[38;5;129;01mand\u001b[39;00m parse_float \u001b[38;5;129;01mis\u001b[39;00m \u001b[38;5;28;01mNone\u001b[39;00m \u001b[38;5;129;01mand\u001b[39;00m\n\u001b[1;32m    345\u001b[0m         parse_constant \u001b[38;5;129;01mis\u001b[39;00m \u001b[38;5;28;01mNone\u001b[39;00m \u001b[38;5;129;01mand\u001b[39;00m object_pairs_hook \u001b[38;5;129;01mis\u001b[39;00m \u001b[38;5;28;01mNone\u001b[39;00m \u001b[38;5;129;01mand\u001b[39;00m \u001b[38;5;129;01mnot\u001b[39;00m kw):\n\u001b[0;32m--> 346\u001b[0m     \u001b[38;5;28;01mreturn\u001b[39;00m \u001b[43m_default_decoder\u001b[49m\u001b[38;5;241;43m.\u001b[39;49m\u001b[43mdecode\u001b[49m\u001b[43m(\u001b[49m\u001b[43ms\u001b[49m\u001b[43m)\u001b[49m\n\u001b[1;32m    347\u001b[0m \u001b[38;5;28;01mif\u001b[39;00m \u001b[38;5;28mcls\u001b[39m \u001b[38;5;129;01mis\u001b[39;00m \u001b[38;5;28;01mNone\u001b[39;00m:\n\u001b[1;32m    348\u001b[0m     \u001b[38;5;28mcls\u001b[39m \u001b[38;5;241m=\u001b[39m JSONDecoder\n",
      "File \u001b[0;32m~/Documents/programming_environments/nlp_env/lib/python3.12/json/decoder.py:337\u001b[0m, in \u001b[0;36mJSONDecoder.decode\u001b[0;34m(self, s, _w)\u001b[0m\n\u001b[1;32m    332\u001b[0m \u001b[38;5;28;01mdef\u001b[39;00m \u001b[38;5;21mdecode\u001b[39m(\u001b[38;5;28mself\u001b[39m, s, _w\u001b[38;5;241m=\u001b[39mWHITESPACE\u001b[38;5;241m.\u001b[39mmatch):\n\u001b[1;32m    333\u001b[0m \u001b[38;5;250m    \u001b[39m\u001b[38;5;124;03m\"\"\"Return the Python representation of ``s`` (a ``str`` instance\u001b[39;00m\n\u001b[1;32m    334\u001b[0m \u001b[38;5;124;03m    containing a JSON document).\u001b[39;00m\n\u001b[1;32m    335\u001b[0m \n\u001b[1;32m    336\u001b[0m \u001b[38;5;124;03m    \"\"\"\u001b[39;00m\n\u001b[0;32m--> 337\u001b[0m     obj, end \u001b[38;5;241m=\u001b[39m \u001b[38;5;28;43mself\u001b[39;49m\u001b[38;5;241;43m.\u001b[39;49m\u001b[43mraw_decode\u001b[49m\u001b[43m(\u001b[49m\u001b[43ms\u001b[49m\u001b[43m,\u001b[49m\u001b[43m \u001b[49m\u001b[43midx\u001b[49m\u001b[38;5;241;43m=\u001b[39;49m\u001b[43m_w\u001b[49m\u001b[43m(\u001b[49m\u001b[43ms\u001b[49m\u001b[43m,\u001b[49m\u001b[43m \u001b[49m\u001b[38;5;241;43m0\u001b[39;49m\u001b[43m)\u001b[49m\u001b[38;5;241;43m.\u001b[39;49m\u001b[43mend\u001b[49m\u001b[43m(\u001b[49m\u001b[43m)\u001b[49m\u001b[43m)\u001b[49m\n\u001b[1;32m    338\u001b[0m     end \u001b[38;5;241m=\u001b[39m _w(s, end)\u001b[38;5;241m.\u001b[39mend()\n\u001b[1;32m    339\u001b[0m     \u001b[38;5;28;01mif\u001b[39;00m end \u001b[38;5;241m!=\u001b[39m \u001b[38;5;28mlen\u001b[39m(s):\n",
      "File \u001b[0;32m~/Documents/programming_environments/nlp_env/lib/python3.12/json/decoder.py:353\u001b[0m, in \u001b[0;36mJSONDecoder.raw_decode\u001b[0;34m(self, s, idx)\u001b[0m\n\u001b[1;32m    344\u001b[0m \u001b[38;5;250m\u001b[39m\u001b[38;5;124;03m\"\"\"Decode a JSON document from ``s`` (a ``str`` beginning with\u001b[39;00m\n\u001b[1;32m    345\u001b[0m \u001b[38;5;124;03ma JSON document) and return a 2-tuple of the Python\u001b[39;00m\n\u001b[1;32m    346\u001b[0m \u001b[38;5;124;03mrepresentation and the index in ``s`` where the document ended.\u001b[39;00m\n\u001b[0;32m   (...)\u001b[0m\n\u001b[1;32m    350\u001b[0m \n\u001b[1;32m    351\u001b[0m \u001b[38;5;124;03m\"\"\"\u001b[39;00m\n\u001b[1;32m    352\u001b[0m \u001b[38;5;28;01mtry\u001b[39;00m:\n\u001b[0;32m--> 353\u001b[0m     obj, end \u001b[38;5;241m=\u001b[39m \u001b[38;5;28;43mself\u001b[39;49m\u001b[38;5;241;43m.\u001b[39;49m\u001b[43mscan_once\u001b[49m\u001b[43m(\u001b[49m\u001b[43ms\u001b[49m\u001b[43m,\u001b[49m\u001b[43m \u001b[49m\u001b[43midx\u001b[49m\u001b[43m)\u001b[49m\n\u001b[1;32m    354\u001b[0m \u001b[38;5;28;01mexcept\u001b[39;00m \u001b[38;5;167;01mStopIteration\u001b[39;00m \u001b[38;5;28;01mas\u001b[39;00m err:\n\u001b[1;32m    355\u001b[0m     \u001b[38;5;28;01mraise\u001b[39;00m JSONDecodeError(\u001b[38;5;124m\"\u001b[39m\u001b[38;5;124mExpecting value\u001b[39m\u001b[38;5;124m\"\u001b[39m, s, err\u001b[38;5;241m.\u001b[39mvalue) \u001b[38;5;28;01mfrom\u001b[39;00m \u001b[38;5;28;01mNone\u001b[39;00m\n",
      "\u001b[0;31mJSONDecodeError\u001b[0m: Expecting property name enclosed in double quotes: line 1 column 2 (char 1)"
     ]
    }
   ],
   "source": [
    "json.loads(golden_data['lyrics'][0])"
   ]
  },
  {
   "cell_type": "code",
   "execution_count": null,
   "metadata": {},
   "outputs": [
    {
     "data": {
      "text/plain": [
       "Index(['lyrics', 'lang', 'genres', 'progression', 'start_key',\n",
       "       'processed_lyrics'],\n",
       "      dtype='object')"
      ]
     },
     "execution_count": 48,
     "metadata": {},
     "output_type": "execute_result"
    }
   ],
   "source": [
    "golden_data.columns"
   ]
  },
  {
   "cell_type": "code",
   "execution_count": null,
   "metadata": {},
   "outputs": [],
   "source": [
    "golden_data = golden_data[['genres', 'progression', 'start_key',\n",
    "       'processed_lyrics']]"
   ]
  },
  {
   "cell_type": "code",
   "execution_count": null,
   "metadata": {},
   "outputs": [],
   "source": [
    "golden_data.to_csv('data/golden_data.csv', index=False)"
   ]
  },
  {
   "cell_type": "code",
   "execution_count": null,
   "metadata": {},
   "outputs": [],
   "source": []
  }
 ],
 "metadata": {
  "kernelspec": {
   "display_name": "song_env",
   "language": "python",
   "name": "python3"
  },
  "language_info": {
   "codemirror_mode": {
    "name": "ipython",
    "version": 3
   },
   "file_extension": ".py",
   "mimetype": "text/x-python",
   "name": "python",
   "nbconvert_exporter": "python",
   "pygments_lexer": "ipython3",
   "version": "3.9.21"
  }
 },
 "nbformat": 4,
 "nbformat_minor": 2
}
