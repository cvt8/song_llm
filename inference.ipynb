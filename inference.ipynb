{
 "cells": [
  {
   "cell_type": "markdown",
   "metadata": {},
   "source": [
    "## Evaluate a Trained MIDI Generator Model\n",
    "\n",
    "This notebook demonstrates the evaluation of a trained MIDI generator model. The model is trained on a Simplified MIDI version of the GiantMIDIPiano dataset."
   ]
  },
  {
   "cell_type": "markdown",
   "metadata": {},
   "source": [
    "### 1. Import Libraries"
   ]
  },
  {
   "cell_type": "code",
   "execution_count": 1,
   "metadata": {},
   "outputs": [],
   "source": [
    "import os\n",
    "import warnings\n",
    "\n",
    "os.environ[\"WANDB_DISABLED\"] = \"true\"\n",
    "warnings.filterwarnings('ignore')"
   ]
  },
  {
   "cell_type": "code",
   "execution_count": 2,
   "metadata": {},
   "outputs": [],
   "source": [
    "import re\n",
    "import torch\n",
    "import numpy as np\n",
    "import matplotlib.pyplot as plt\n",
    "\n",
    "from datasets import load_dataset\n",
    "from transformers import (\n",
    "    GPT2LMHeadModel,\n",
    "    GPT2Config\n",
    ")\n",
    "from typing import List, Tuple\n",
    "from tqdm.auto import tqdm\n",
    "from midi_player import MIDIPlayer"
   ]
  },
  {
   "cell_type": "code",
   "execution_count": 3,
   "metadata": {},
   "outputs": [],
   "source": [
    "from notation import MusicEvaluator\n",
    "from text_to_midi import create_midi_file"
   ]
  },
  {
   "cell_type": "code",
   "execution_count": 4,
   "metadata": {},
   "outputs": [
    {
     "name": "stdout",
     "output_type": "stream",
     "text": [
      "Using device: cuda\n"
     ]
    }
   ],
   "source": [
    "device = torch.device(\"cuda\" if torch.cuda.is_available() else \"cpu\")\n",
    "print(f\"Using device: {device}\")"
   ]
  },
  {
   "cell_type": "markdown",
   "metadata": {},
   "source": [
    "### 2. Load the Tokenizer"
   ]
  },
  {
   "cell_type": "code",
   "execution_count": 5,
   "metadata": {},
   "outputs": [],
   "source": [
    "class BinnedQuadrupletMidiTokenizer:\n",
    "    def __init__(self,\n",
    "                 pitch_range: Tuple[int, int] = (0, 127),\n",
    "                 volume_range: Tuple[int, int] = (0, 127),\n",
    "                 duration_range: Tuple[int, int] = (0, 4000), # Example max\n",
    "                 time_range: Tuple[int, int] = (0, 10000),  # Example max\n",
    "                 duration_bins: int = 128, # Number of bins for duration\n",
    "                 time_bins: int = 128      # Number of bins for time\n",
    "                 ):\n",
    "\n",
    "        self.pitch_range = pitch_range\n",
    "        self.volume_range = volume_range\n",
    "        # Store raw ranges and bin counts\n",
    "        self.duration_info = {'range': duration_range, 'bins': duration_bins}\n",
    "        self.time_info = {'range': time_range, 'bins': time_bins}\n",
    "\n",
    "        self.vocab = {\n",
    "            '<pad>': 0, '<s>': 1, '</s>': 2, '<unk>': 3, '<note>': 4\n",
    "        }\n",
    "        self.inv_vocab = {v: k for k, v in self.vocab.items()}\n",
    "        self.next_token_id = len(self.vocab)\n",
    "\n",
    "        # Store prefixes\n",
    "        self.prefixes = {\n",
    "            'pitch': '<pitch_', 'volume': '<volume_',\n",
    "            'duration': '<duration_bin_', 'time': '<time_bin_'\n",
    "        }\n",
    "\n",
    "        # --- Add tokens ---\n",
    "        # Pitch and Volume (exact values)\n",
    "        self._add_exact_value_tokens(pitch_range, self.prefixes['pitch'])\n",
    "        self._add_exact_value_tokens(volume_range, self.prefixes['volume'])\n",
    "\n",
    "        # Duration and Time (binned values)\n",
    "        self.duration_boundaries = self._calculate_log_boundaries(duration_range, duration_bins)\n",
    "        self.time_boundaries = self._calculate_log_boundaries(time_range, time_bins)\n",
    "        self._add_bin_tokens(duration_bins, self.prefixes['duration'])\n",
    "        self._add_bin_tokens(time_bins, self.prefixes['time'])\n",
    "\n",
    "        self.vocab_size = len(self.vocab)\n",
    "        self.pad_token_id = self.vocab['<pad>']\n",
    "        self.bos_token_id = self.vocab['<s>']\n",
    "        self.eos_token_id = self.vocab['</s>']\n",
    "        self.unk_token_id = self.vocab['<unk>']\n",
    "        self.note_token_id = self.vocab['<note>']\n",
    "\n",
    "        # Precompile regex\n",
    "        self.note_pattern = re.compile(r'p(\\d+):v(\\d+):d(\\d+):t(\\d+)')\n",
    "\n",
    "    def _calculate_log_boundaries(self, value_range: Tuple[int, int], num_bins: int) -> np.ndarray:\n",
    "        \"\"\"Calculates logarithmic bin boundaries.\"\"\"\n",
    "        min_val, max_val = value_range\n",
    "        if min_val < 0: min_val = 0 # Ensure non-negative for log\n",
    "        # Add 1 before log, subtract 1 after to handle 0 correctly\n",
    "        # Use logspace from log10(min_val+1) to log10(max_val+1)\n",
    "        boundaries = np.logspace(\n",
    "            np.log10(min_val + 1),\n",
    "            np.log10(max_val + 1),\n",
    "            num=num_bins + 1 # Need num_bins + 1 boundaries for num_bins bins\n",
    "        ) - 1\n",
    "        # Ensure the first boundary is exactly the minimum value if it was >= 0\n",
    "        if min_val >= 0:\n",
    "             boundaries[0] = min_val\n",
    "        return boundaries\n",
    "\n",
    "    def _add_exact_value_tokens(self, value_range: Tuple[int, int], prefix: str):\n",
    "        \"\"\"Adds tokens for each exact value in the range.\"\"\"\n",
    "        for i in range(value_range[0], value_range[1] + 1):\n",
    "            token_name = f'{prefix}{i}>'\n",
    "            self.vocab[token_name] = self.next_token_id\n",
    "            self.inv_vocab[self.next_token_id] = token_name\n",
    "            self.next_token_id += 1\n",
    "\n",
    "    def _add_bin_tokens(self, num_bins: int, prefix: str):\n",
    "        \"\"\"Adds tokens for each bin index.\"\"\"\n",
    "        for i in range(num_bins):\n",
    "            token_name = f'{prefix}{i}>'\n",
    "            self.vocab[token_name] = self.next_token_id\n",
    "            self.inv_vocab[self.next_token_id] = token_name\n",
    "            self.next_token_id += 1\n",
    "\n",
    "    def _get_bin_index(self, value: int, boundaries: np.ndarray) -> int:\n",
    "        \"\"\"Finds the appropriate bin index for a value.\"\"\"\n",
    "        # np.digitize returns the index of the bin (starting from 1)\n",
    "        # boundaries[i-1] <= x < boundaries[i]\n",
    "        bin_index = np.digitize(value, boundaries[1:], right=False) # Use boundaries[1:] because digitize checks < boundary\n",
    "        # Ensure index is within bounds [0, num_bins-1]\n",
    "        return min(bin_index, len(boundaries) - 2) # len(boundaries) - 2 is the max bin index\n",
    "\n",
    "    def _get_value_token_id(self, value: int, value_range: Tuple[int, int], prefix: str) -> int:\n",
    "        \"\"\"Gets the token ID for an exact value.\"\"\"\n",
    "        if value_range[0] <= value <= value_range[1]:\n",
    "            token_name = f'{prefix}{value}>'\n",
    "            return self.vocab.get(token_name, self.unk_token_id)\n",
    "        return self.unk_token_id\n",
    "\n",
    "    def _get_bin_token_id(self, value: int, boundaries: np.ndarray, prefix: str) -> int:\n",
    "        \"\"\"Gets the token ID for a binned value.\"\"\"\n",
    "        min_val = boundaries[0]\n",
    "        max_val = boundaries[-1]\n",
    "        if min_val <= value <= max_val:\n",
    "             bin_index = self._get_bin_index(value, boundaries)\n",
    "             token_name = f'{prefix}{bin_index}>'\n",
    "             return self.vocab.get(token_name, self.unk_token_id) # Should exist, but fallback\n",
    "        return self.unk_token_id\n",
    "\n",
    "    def tokenize(self, text: str) -> List[int]:\n",
    "        tokens = [self.bos_token_id]\n",
    "        note_blocks = text.strip().split(' ')\n",
    "        for block in note_blocks:\n",
    "            if not block: continue\n",
    "            match = self.note_pattern.match(block)\n",
    "            if match:\n",
    "                try:\n",
    "                    p_val = int(match.group(1))\n",
    "                    v_val = int(match.group(2))\n",
    "                    d_val = int(match.group(3))\n",
    "                    t_val = int(match.group(4))\n",
    "\n",
    "                    p_token_id = self._get_value_token_id(p_val, self.pitch_range, self.prefixes['pitch'])\n",
    "                    v_token_id = self._get_value_token_id(v_val, self.volume_range, self.prefixes['volume'])\n",
    "                    d_token_id = self._get_bin_token_id(d_val, self.duration_boundaries, self.prefixes['duration'])\n",
    "                    t_token_id = self._get_bin_token_id(t_val, self.time_boundaries, self.prefixes['time'])\n",
    "\n",
    "                    # Check if any tokenization resulted in UNK\n",
    "                    if all(tid != self.unk_token_id for tid in [p_token_id, v_token_id, d_token_id, t_token_id]):\n",
    "                        tokens.append(self.note_token_id)\n",
    "                        tokens.append(p_token_id)\n",
    "                        tokens.append(v_token_id)\n",
    "                        tokens.append(d_token_id)\n",
    "                        tokens.append(t_token_id)\n",
    "                    else:\n",
    "                        # Handle UNK during tokenization (e.g., value truly out of range)\n",
    "                        tokens.extend([self.unk_token_id] * 5) # Or just one UNK? Depends.\n",
    "                except (ValueError, IndexError):\n",
    "                    tokens.extend([self.unk_token_id] * 5) # Malformed block\n",
    "            else:\n",
    "                 tokens.append(self.unk_token_id) # Non-matching block\n",
    "\n",
    "        tokens.append(self.eos_token_id)\n",
    "        return tokens\n",
    "\n",
    "    def _get_value_from_exact_token(self, token_id: int, prefix: str) -> int | None:\n",
    "        \"\"\"Helper to extract value from exact value token.\"\"\"\n",
    "        token = self.inv_vocab.get(token_id)\n",
    "        if token and token.startswith(prefix) and token.endswith('>'):\n",
    "            try:\n",
    "                return int(token[len(prefix):-1])\n",
    "            except ValueError:\n",
    "                return None\n",
    "        return None\n",
    "\n",
    "    def _get_approx_value_from_bin_token(self, token_id: int, prefix: str, boundaries: np.ndarray) -> str | None:\n",
    "         \"\"\"Helper to get an approximate representation from bin token.\"\"\"\n",
    "         token = self.inv_vocab.get(token_id)\n",
    "         if token and token.startswith(prefix) and token.endswith('>'):\n",
    "             try:\n",
    "                 bin_index = int(token[len(prefix):-1])\n",
    "                 if 0 <= bin_index < len(boundaries) - 1:\n",
    "                     # Return a string representing the bin range or midpoint\n",
    "                     lower_bound = boundaries[bin_index]\n",
    "                     upper_bound = boundaries[bin_index + 1]\n",
    "                     # Simple representation: midpoint rounded\n",
    "                     midpoint = int(round((lower_bound + upper_bound) / 2))\n",
    "                     # Or return range string: f\"({int(lower_bound)}-{int(upper_bound)})\"\n",
    "                     return str(midpoint) # Return midpoint as string\n",
    "                 else: return \"<bin_idx_err>\"\n",
    "             except ValueError:\n",
    "                 return \"<bin_parse_err>\"\n",
    "         return None\n",
    "\n",
    "\n",
    "    def decode(self, token_ids: List[int], skip_special_tokens: bool = True) -> str:\n",
    "        notes_str = []\n",
    "        i = 0\n",
    "        while i < len(token_ids):\n",
    "            token_id = token_ids[i]\n",
    "            token = self.inv_vocab.get(token_id)\n",
    "\n",
    "            special_tokens_to_handle = ['<s>', '</s>', '<pad>', '<unk>']\n",
    "\n",
    "            if skip_special_tokens and token in special_tokens_to_handle:\n",
    "                i += 1\n",
    "                continue\n",
    "\n",
    "            if not skip_special_tokens and token in special_tokens_to_handle:\n",
    "                 notes_str.append(token)\n",
    "                 i += 1\n",
    "                 continue\n",
    "\n",
    "            if token == '<note>':\n",
    "                if i + 4 < len(token_ids): # Check for full quadruplet\n",
    "                    p_token_id = token_ids[i+1]\n",
    "                    v_token_id = token_ids[i+2]\n",
    "                    d_token_id = token_ids[i+3]\n",
    "                    t_token_id = token_ids[i+4]\n",
    "\n",
    "                    p_val = self._get_value_from_exact_token(p_token_id, self.prefixes['pitch'])\n",
    "                    v_val = self._get_value_from_exact_token(v_token_id, self.prefixes['volume'])\n",
    "                    # Get approximate value string for duration and time\n",
    "                    d_val_approx = self._get_approx_value_from_bin_token(d_token_id, self.prefixes['duration'], self.duration_boundaries)\n",
    "                    t_val_approx = self._get_approx_value_from_bin_token(t_token_id, self.prefixes['time'], self.time_boundaries)\n",
    "\n",
    "\n",
    "                    if all(v is not None for v in [p_val, v_val, d_val_approx, t_val_approx]):\n",
    "                        notes_str.append(f\"p{p_val}:v{v_val}:d{d_val_approx}:t{t_val_approx}\")\n",
    "                        i += 5 # Move past the <note> and its 4 value tokens\n",
    "                    else:\n",
    "                        # Malformed note sequence after <note>\n",
    "                        if not skip_special_tokens: notes_str.append(\"<unk_note>\")\n",
    "                        i += 1 # Move past the <note> token only\n",
    "                else:\n",
    "                    # Not enough tokens after <note>\n",
    "                    if not skip_special_tokens: notes_str.append(\"<partial_note>\")\n",
    "                    i += 1\n",
    "            else:\n",
    "                 # Unexpected token\n",
    "                 if not skip_special_tokens: notes_str.append(token if token else \"<unk_decode>\")\n",
    "                 i += 1\n",
    "\n",
    "        return \" \".join(notes_str)\n"
   ]
  },
  {
   "cell_type": "code",
   "execution_count": 6,
   "metadata": {},
   "outputs": [],
   "source": [
    "def calculate_dt_ranges(dataset):\n",
    "    \"\"\"\n",
    "    Calculates the minimum and maximum duration (d) and time (t) values\n",
    "    found in the 'text' column of the dataset after preprocessing.\n",
    "    \"\"\"\n",
    "    min_d, max_d = float('inf'), float('-inf')\n",
    "    min_t, max_t = float('inf'), float('-inf')\n",
    "\n",
    "    # Precompile regex for faster parsing\n",
    "    note_pattern = re.compile(r'p(\\d+):v(\\d+):d(\\d+):t(\\d+)') # Slightly more robust\n",
    "\n",
    "    print(\"Calculating duration (d) and time (t) ranges from dataset...\")\n",
    "    for example in tqdm(dataset):\n",
    "        text = example['text']\n",
    "        # --- Preprocessing logic (mirrors MidiDataset._preprocess_text) ---\n",
    "        try:\n",
    "            midi_sequence_start = text.find(\"[/INST]\") + len(\"[/INST]\")\n",
    "            midi_sequence_end = text.find(\"</s>\")\n",
    "            if midi_sequence_end != -1:\n",
    "                midi_sequence = text[midi_sequence_start:midi_sequence_end].strip()\n",
    "            else:\n",
    "                midi_sequence = text[midi_sequence_start:].strip()\n",
    "        except:\n",
    "            # Skip problematic examples during range calculation\n",
    "            continue\n",
    "        # --- End Preprocessing ---\n",
    "\n",
    "        # Find all note matches in the preprocessed sequence\n",
    "        # We can split by space first for potentially better performance on long strings\n",
    "        note_blocks = midi_sequence.split(' ')\n",
    "        for block in note_blocks:\n",
    "            match = note_pattern.match(block) # Use match since we expect it at the start of the block\n",
    "            if match:\n",
    "                try:\n",
    "                    # Extract d and t values as integers\n",
    "                    d_val = int(match.group(3))\n",
    "                    t_val = int(match.group(4))\n",
    "\n",
    "                    # Update min/max\n",
    "                    min_d = min(min_d, d_val)\n",
    "                    max_d = max(max_d, d_val)\n",
    "                    min_t = min(min_t, t_val)\n",
    "                    max_t = max(max_t, t_val)\n",
    "                except (ValueError, IndexError):\n",
    "                    continue\n",
    "\n",
    "    # Handle cases where no valid values were found\n",
    "    if min_d == float('inf'): min_d = 0\n",
    "    if max_d == float('-inf'): max_d = 2000 # Sensible default max if none found\n",
    "    if min_t == float('inf'): min_t = 0\n",
    "    if max_t == float('-inf'): max_t = 2000 # Sensible default max if none found\n",
    "\n",
    "    print(\"Calculation complete.\")\n",
    "    # Ensure min is not greater than max if only one value was found\n",
    "    if min_d > max_d: max_d = min_d\n",
    "    if min_t > max_t: max_t = min_t\n",
    "\n",
    "    return (min_d, max_d), (min_t, max_t)"
   ]
  },
  {
   "cell_type": "code",
   "execution_count": 7,
   "metadata": {},
   "outputs": [],
   "source": [
    "def filter_by_max_t(example, max_t_threshold):\n",
    "    \"\"\"\n",
    "    Checks if all 't' values in a single dataset example are <= max_t_threshold.\n",
    "    Returns True to keep the example, False to discard it.\n",
    "    \"\"\"\n",
    "    text = example['text']\n",
    "    # --- Preprocessing logic ---\n",
    "    try:\n",
    "        midi_sequence_start = text.find(\"[/INST]\") + len(\"[/INST]\")\n",
    "        midi_sequence_end = text.find(\"</s>\")\n",
    "        if midi_sequence_end != -1: midi_sequence = text[midi_sequence_start:midi_sequence_end].strip()\n",
    "        else: midi_sequence = text[midi_sequence_start:].strip()\n",
    "    except: return True # Keep examples where preprocessing fails\n",
    "    # --- End Preprocessing ---\n",
    "\n",
    "    t_pattern = re.compile(r':t(\\d+)')\n",
    "    matches = t_pattern.finditer(midi_sequence)\n",
    "    try:\n",
    "        for match in matches:\n",
    "            t_val = int(match.group(1))\n",
    "            if t_val > max_t_threshold: return False # Discard example\n",
    "    except ValueError: return True # Keep examples with parsing errors\n",
    "    except Exception: return True # Keep on other unexpected errors\n",
    "    return True # Keep if all checks pass"
   ]
  },
  {
   "cell_type": "code",
   "execution_count": 8,
   "metadata": {},
   "outputs": [
    {
     "name": "stdout",
     "output_type": "stream",
     "text": [
      "Loading raw dataset split: train[:40000]...\n",
      "Original dataset size: 40000\n",
      "Filtering dataset with max_t_threshold = 10000...\n",
      "Filtered dataset size: 39839\n",
      "Calculating ranges on filtered dataset...\n",
      "Calculating duration (d) and time (t) ranges from dataset...\n"
     ]
    },
    {
     "data": {
      "application/vnd.jupyter.widget-view+json": {
       "model_id": "1f3fae6cc4ae46e8868a351fb8775305",
       "version_major": 2,
       "version_minor": 0
      },
      "text/plain": [
       "  0%|          | 0/39839 [00:00<?, ?it/s]"
      ]
     },
     "metadata": {},
     "output_type": "display_data"
    },
    {
     "name": "stdout",
     "output_type": "stream",
     "text": [
      "Calculation complete.\n",
      "Calculated Duration (d) Range: (0, 4613)\n",
      "Calculated Pause (t) Range: (0, 9993)\n"
     ]
    }
   ],
   "source": [
    "dataset_name = \"fegounna/GMP_4K\"\n",
    "raw_dataset_split = \"train[:40000]\" # Adjust size as needed\n",
    "dataset = load_dataset(dataset_name, split=raw_dataset_split)\n",
    "MAX_T_THRESHOLD = 10000\n",
    "\n",
    "# --- Load Raw Dataset ---\n",
    "print(f\"Loading raw dataset split: {raw_dataset_split}...\")\n",
    "raw_dataset = load_dataset(dataset_name, split=raw_dataset_split)\n",
    "print(f\"Original dataset size: {len(raw_dataset)}\")\n",
    "\n",
    "# --- Filter Dataset ---\n",
    "print(f\"Filtering dataset with max_t_threshold = {MAX_T_THRESHOLD}...\")\n",
    "filtered_dataset = raw_dataset.filter(\n",
    "    lambda example: filter_by_max_t(example, MAX_T_THRESHOLD)\n",
    ")\n",
    "print(f\"Filtered dataset size: {len(filtered_dataset)}\")\n",
    "\n",
    "# --- Calculate Ranges on FILTERED data ---\n",
    "print(\"Calculating ranges on filtered dataset...\")\n",
    "duration_range, pause_range = calculate_dt_ranges(filtered_dataset) # Use filtered_dataset\n",
    "print(f\"Calculated Duration (d) Range: {duration_range}\")\n",
    "print(f\"Calculated Pause (t) Range: {pause_range}\") # This range should now respect the threshold\n",
    "\n",
    "\n",
    "# Instantiate BINNED Tokenizer using calculated ranges and desired bins\n",
    "DURATION_BINS = 2048 # Control vocab size vs precision trade-off\n",
    "TIME_BINS = 4096   # Control vocab size vs precision trade-off\n",
    "\n",
    "tokenizer = BinnedQuadrupletMidiTokenizer(\n",
    "    duration_range=duration_range,\n",
    "    time_range=pause_range,\n",
    "    duration_bins=DURATION_BINS,\n",
    "    time_bins=TIME_BINS\n",
    ")"
   ]
  },
  {
   "cell_type": "markdown",
   "metadata": {},
   "source": [
    "### 3. Load a Trained Model"
   ]
  },
  {
   "cell_type": "code",
   "execution_count": 9,
   "metadata": {},
   "outputs": [
    {
     "name": "stdout",
     "output_type": "stream",
     "text": [
      "Model parameters: 13303680\n"
     ]
    }
   ],
   "source": [
    "# We create a small GPT-2 like model configuration and instantiate the model.\n",
    "\n",
    "config = GPT2Config(\n",
    "    vocab_size=tokenizer.vocab_size,\n",
    "    n_embd=384,      # Embedding dimension\n",
    "    n_head=6,        # Number of attention heads\n",
    "    n_layer=6,       # Number of layers\n",
    "    n_positions=512, # Max sequence length - adjust if needed\n",
    "    pad_token_id=tokenizer.pad_token_id,\n",
    "    bos_token_id=tokenizer.bos_token_id,\n",
    "    eos_token_id=tokenizer.eos_token_id\n",
    ")\n",
    "\n",
    "model = GPT2LMHeadModel(config)\n",
    "print(f\"Model parameters: {model.num_parameters()}\")\n"
   ]
  },
  {
   "cell_type": "code",
   "execution_count": 10,
   "metadata": {},
   "outputs": [
    {
     "data": {
      "text/plain": [
       "GPT2LMHeadModel(\n",
       "  (transformer): GPT2Model(\n",
       "    (wte): Embedding(6405, 384)\n",
       "    (wpe): Embedding(512, 384)\n",
       "    (drop): Dropout(p=0.1, inplace=False)\n",
       "    (h): ModuleList(\n",
       "      (0-5): 6 x GPT2Block(\n",
       "        (ln_1): LayerNorm((384,), eps=1e-05, elementwise_affine=True)\n",
       "        (attn): GPT2Attention(\n",
       "          (c_attn): Conv1D(nf=1152, nx=384)\n",
       "          (c_proj): Conv1D(nf=384, nx=384)\n",
       "          (attn_dropout): Dropout(p=0.1, inplace=False)\n",
       "          (resid_dropout): Dropout(p=0.1, inplace=False)\n",
       "        )\n",
       "        (ln_2): LayerNorm((384,), eps=1e-05, elementwise_affine=True)\n",
       "        (mlp): GPT2MLP(\n",
       "          (c_fc): Conv1D(nf=1536, nx=384)\n",
       "          (c_proj): Conv1D(nf=384, nx=1536)\n",
       "          (act): NewGELUActivation()\n",
       "          (dropout): Dropout(p=0.1, inplace=False)\n",
       "        )\n",
       "      )\n",
       "    )\n",
       "    (ln_f): LayerNorm((384,), eps=1e-05, elementwise_affine=True)\n",
       "  )\n",
       "  (lm_head): Linear(in_features=384, out_features=6405, bias=False)\n",
       ")"
      ]
     },
     "execution_count": 10,
     "metadata": {},
     "output_type": "execute_result"
    }
   ],
   "source": [
    "output_dir = \"./models\"\n",
    "model_name = \"model_3_epochs\"\n",
    "\n",
    "model = model.from_pretrained(f\"{output_dir}/{model_name}\")\n",
    "model.to(device)\n",
    "model.eval()"
   ]
  },
  {
   "cell_type": "markdown",
   "metadata": {},
   "source": [
    "### 3. Generate MIDI Sequences"
   ]
  },
  {
   "cell_type": "code",
   "execution_count": null,
   "metadata": {},
   "outputs": [
    {
     "name": "stdout",
     "output_type": "stream",
     "text": [
      "\n",
      "--- Generated MIDI Sequence ---\n",
      "p56:v63:d47:t1 p64:v52:d52:t0 p68:v61:d46:t1 p64:v56:d42:t114 p64:v69:d44:t5 p68:v81:d34:t0 p68:v69:d40:t1 p64:v74:d50:t7 p76:v80:d5:t0 p71:v74:d5:t8 p64:v57:d24:t105 p64:v76:d32:t4 p71:v73:d30:t0 p68:v70:d32:t6 p64:v71:d59:t2 p59:v63:d35:t113 p68:v81:d25:t1 p64:v74:d23:t1 p56:v78:d25:t2 p64:v77:d26:t1 p76:v82:d27:t0 p64:v72:d28:t1 p68:v70:d50:t5 p64:v66:d37:t107 p63:v86:d34:t1 p59:v83:d32:t1 p64:v76:d28:t1 p68:v74:d28:t6 p64:v65:d49:t95 p68:v73:d41:t0 p64:v66:d32:t1 p59:v76:d27:t5 p56:v65:d42:t2 p64:v69:d26:t1 p59:v61:d49:t101 p64:v66:d35:t4 p68:v76:d24:t2 p64:v63:d51:t4 p59:v72:d38:t0 p59:v59:d43:t0 p64:v58:d45:t0 p56:v60:d40:t1 p64:v68:d42:t1 p59:v67:d45:t99 p68:v73:d37:t0 p64:v70:d36:t1 p59:v65:d41:t2 p68:v62:d49:t6 p64:v61:d34:t108 p68:v80:d38:t1 p64:v70:d30:t2 p59:v62:d33:t0 p68:v60:d38:t3 p64:v56:d29:t109 p68:v66:d43:t1 p64:v62:d28:t1 p59:v52:d58:t0 p64:v53:d49:t2 p59:v55:d44:t1 p68:v63:d42:t1 p59:v59:d41:t105 p68:v76:d33:t3 p59:v69:d33:t1 p56:v67:d28:t2 p64:v67:d28:t2 p59:v60:d34:t106 p68:v75:d28:t1 p71:v79:d38:t1 p64:v60:d39:t2 p56:v69:d31:t0 p59:v64:d34:t1 p52:v63:d37:t1 p59:v63:d31:t0 p64:v66:d26:t0 p56:v66:d26:t112 p59:v75:d30:t0 p52:v69:d50:t0 p64:v66:d31:t2 p59:v59:d36:t0 p68:v72:d29:t1 p52:v64:d33:t0 p59:v71:d31:t113 p68:v80:d33:t1 p56:v62:d50:t0 p59:v67:d29:t2 p64:v61:d49:t2 p59:v55:d45:t102 p71:v80:d30:t0 p68:v79:d33:t4 p64:v75:d27:t0 p59:v65:d28:t1 p64:v66:d26:t0 p56:v61:d26:t0 p59:v56:d25:t1 p56:v57:d28:t106 p64:v87:d25:t1 p59:v65:d24:t0 p56:v64:d49:t0 p64:v71:d48:t2 p59:v66:d48:t0\n",
      "--- End of Sequence ---\n"
     ]
    }
   ],
   "source": [
    "def generate_midi_sequence_nucleus(\n",
    "    prompt_text: str = \"\",\n",
    "    max_new_tokens: int = 256, # Renamed for clarity: generates this many NEW tokens\n",
    "    top_p: float = 0.9,        # Nucleus sampling probability threshold (e.g., 0.85, 0.9, 0.95)\n",
    "    temperature: float = 0.8,  # Optional: slight temperature can smooth probabilities before top_p\n",
    "    device = None\n",
    "):\n",
    "    \"\"\"Generates MIDI sequence using nucleus sampling.\"\"\"\n",
    "\n",
    "    if device is None:\n",
    "      device = model.device # Use the model's device by default\n",
    "\n",
    "    input_tokens = tokenizer.tokenize(prompt_text)\n",
    "    input_tensor = torch.tensor([input_tokens]).to(device)\n",
    "    input_length = input_tensor.shape[1] # Length of the prompt tokens\n",
    "\n",
    "    # Calculate the total max_length for the generate function\n",
    "    total_max_length = input_length + max_new_tokens\n",
    "\n",
    "    generated_token_ids = model.generate(\n",
    "        input_tensor,\n",
    "        max_length=total_max_length,    # Total desired sequence length\n",
    "        do_sample=True,                 # MUST be True for sampling strategies\n",
    "        top_p=top_p,                    # Enable nucleus sampling\n",
    "        temperature=temperature,        # Control randomness (1.0 = no change)\n",
    "        num_return_sequences=1,\n",
    "        pad_token_id=tokenizer.pad_token_id,\n",
    "        bos_token_id=tokenizer.bos_token_id,\n",
    "        eos_token_id=tokenizer.eos_token_id\n",
    "    )\n",
    "\n",
    "    # Extract only the generated tokens (excluding the prompt)\n",
    "    generated_part_ids = generated_token_ids[0, input_length:]\n",
    "\n",
    "    # Decode the generated part\n",
    "    generated_sequence = tokenizer.decode(generated_part_ids.tolist(), skip_special_tokens=True) # Skip special tokens for cleaner output\n",
    "\n",
    "    return generated_sequence.strip() # Remove leading/trailing whitespace\n",
    "\n",
    "# --- Example Usage ---\n",
    "\n",
    "prompt = \"\" # Start generation from scratch\n",
    "# Let's generate approximately 510 *new* tokens\n",
    "# Note: Tokenizer adds BOS/EOS, so actual number might vary slightly depending on tokenizer implementation\n",
    "max_new_tokens_to_generate = 510\n",
    "\n",
    "generated_midi = generate_midi_sequence_nucleus(\n",
    "    prompt_text=prompt,\n",
    "    max_new_tokens=max_new_tokens_to_generate,\n",
    "    top_p=0.95,       # Common value for nucleus sampling\n",
    "    temperature=0.9  # Slightly reduced temperature often works well with top_p\n",
    ")\n",
    "\n",
    "print(f\"\\n--- Generated MIDI Sequence ---\")\n",
    "print(generated_midi)\n",
    "print(f\"--- End of Sequence ---\")"
   ]
  },
  {
   "cell_type": "code",
   "execution_count": 12,
   "metadata": {},
   "outputs": [],
   "source": [
    "def generate_midi_sequence_and_file(\n",
    "    prompt_text: str = \"\",\n",
    "    max_new_tokens: int = 256, # Renamed for clarity: generates this many NEW tokens\n",
    "    top_p: float = 0.9,        # Nucleus sampling probability threshold (e.g., 0.85, 0.9, 0.95)\n",
    "    temperature: float = 0.8,  # Optional: slight temperature can smooth probabilities before top_p\n",
    "    device = None,\n",
    "    output_dir: str = \"./outputs\",\n",
    "    output_filename: str = \"generated_midi\"\n",
    "):\n",
    "    \"\"\"Generates MIDI sequence using nucleus sampling and saves to a MIDI file.\"\"\"\n",
    "\n",
    "    generated_midi = generate_midi_sequence_nucleus(\n",
    "        prompt_text=prompt_text,\n",
    "        max_new_tokens=max_new_tokens,\n",
    "        top_p=top_p,\n",
    "        temperature=temperature,\n",
    "        device=device\n",
    "    )\n",
    "    while generated_midi == \"\":\n",
    "        generated_midi = generate_midi_sequence_nucleus(\n",
    "            prompt_text=prompt_text,\n",
    "            max_new_tokens=max_new_tokens,\n",
    "            top_p=top_p,\n",
    "            temperature=temperature,\n",
    "            device=device\n",
    "        )\n",
    "        \n",
    "    generated_midi += \" \"\n",
    "\n",
    "    # Save the generated MIDI sequence to a file\n",
    "    os.makedirs(output_dir, exist_ok=True)\n",
    "    output_path_simplified = os.path.join(output_dir, f\"{output_filename}.txt\")\n",
    "    output_path = os.path.join(output_dir, f\"{output_filename}.mid\")\n",
    "    \n",
    "    # Save the simplified text representation\n",
    "    with open(output_path_simplified, \"w\") as text_file:\n",
    "        text_file.write(generated_midi)\n",
    "        \n",
    "    header = [\"0, 0, Header,1, 2, 384\\n\", \"1, 0, Start_track\\n\", \"1, 0, Tempo, 500000\\n\", \"1, 0, Time_signature, 4, 2, 24, 8\\n\", \"1, 1, End_track\\n\", \"2, 0, Start_track\\n\"]\n",
    "    # Convert the simplified text representation to a MIDI file\n",
    "    create_midi_file(output_path_simplified, output_path, header=header)\n",
    "    \n",
    "    return generated_midi"
   ]
  },
  {
   "cell_type": "markdown",
   "metadata": {},
   "source": [
    "### 4. Evaluate the Generated MIDI Sequences Qualitatively"
   ]
  },
  {
   "cell_type": "code",
   "execution_count": 13,
   "metadata": {},
   "outputs": [
    {
     "data": {
      "text/html": [
       "<iframe srcdoc=\"&lt;script src=&quot;https://cdn.jsdelivr.net/combine/npm/tone@14.7.58,npm/@magenta/music@1.23.1/es6/core.js,npm/focus-visible@5,npm/html-midi-player@1.5.0&quot;&gt;&lt;/script&gt;  Generated MIDI &lt;a href=&quot;data:audio/midi;base64,TVRoZAAAAAYAAQACAYBNVHJrAAAAEwD/UQMHoSAA/1gEBAIYCAH/LwBNVHJrAAACZQCQPUwCOUwANE4AOUgBQEgEOFADNEUAO0AEQAAYNAAAOwAGOQACPQAFOQAANAAHOACBVkVWAEdRAURNAUBMAjRSAztHADRJAihJADhFATQ/ATtAFEQAAUcAAUUAAkAAAzQABDsAAjQAACgAAjsAAzQABTgAgWBAUQFESgI7QwIoOwE0PQA4OgAvOgE0Mh5AAAM4AAVEAAMoAAE0AAI7AAE0ABMvAIFNSVACO0kBQEYANEkAOEUAND4AKEIBOEciSQAANAAAKAACOwAAQAAANAAAOAAAOACBY0RVATtOATRDAihAADtHADhCADQ/AShCHDsAAkQAADsAATgAADQAATQAAigAASgAgWpAVgE7UgA0UAA7UAIvRgA0TQE4RgE0QwAoQgI0PwQ0ABM7AAJAAAEvAAE0AAE7AAE0AAI4AAEoAAM0AIF5QEkCND0BOD4AO0MAND4AKDUBNDoFNEAVQAADNAAAOAACOwAANAAGKAACNAADNACBaEJEATlCAT1GATQ+ADk/ATE9ADk8H0IABTkAAjkAAz0AADQAATkABTEAgWFATgA0RQE7QQI4OwEvPgAoOAE0MgI4PAk0ABU7AAE0AAIvAAE4AAEoAARAABM4AIFTQlEFOUMCQEQCO0kAREkBQEoCKD0BND4AO0ICND0WOwACRAABQAABOQACQgAAOwABQAAANAABNAALKACBXUdEAERLAEBFATRDADtEADRAACg8ATtCADRABTg/GkAAADsABUQAADQAATsAAkcAATgAATQAADQAAigAgV44TQA7UAAvRR87AAM4AAIvAAAAAAD/LwA=&quot; target=&quot;_blank&quot;&gt;Download MIDI&lt;/a&gt;&lt;br&gt;\n",
       "            &lt;midi-player src=&quot;data:audio/midi;base64,TVRoZAAAAAYAAQACAYBNVHJrAAAAEwD/UQMHoSAA/1gEBAIYCAH/LwBNVHJrAAACZQCQPUwCOUwANE4AOUgBQEgEOFADNEUAO0AEQAAYNAAAOwAGOQACPQAFOQAANAAHOACBVkVWAEdRAURNAUBMAjRSAztHADRJAihJADhFATQ/ATtAFEQAAUcAAUUAAkAAAzQABDsAAjQAACgAAjsAAzQABTgAgWBAUQFESgI7QwIoOwE0PQA4OgAvOgE0Mh5AAAM4AAVEAAMoAAE0AAI7AAE0ABMvAIFNSVACO0kBQEYANEkAOEUAND4AKEIBOEciSQAANAAAKAACOwAAQAAANAAAOAAAOACBY0RVATtOATRDAihAADtHADhCADQ/AShCHDsAAkQAADsAATgAADQAATQAAigAASgAgWpAVgE7UgA0UAA7UAIvRgA0TQE4RgE0QwAoQgI0PwQ0ABM7AAJAAAEvAAE0AAE7AAE0AAI4AAEoAAM0AIF5QEkCND0BOD4AO0MAND4AKDUBNDoFNEAVQAADNAAAOAACOwAANAAGKAACNAADNACBaEJEATlCAT1GATQ+ADk/ATE9ADk8H0IABTkAAjkAAz0AADQAATkABTEAgWFATgA0RQE7QQI4OwEvPgAoOAE0MgI4PAk0ABU7AAE0AAIvAAE4AAEoAARAABM4AIFTQlEFOUMCQEQCO0kAREkBQEoCKD0BND4AO0ICND0WOwACRAABQAABOQACQgAAOwABQAAANAABNAALKACBXUdEAERLAEBFATRDADtEADRAACg8ATtCADRABTg/GkAAADsABUQAADQAATsAAkcAATgAATQAADQAAigAgV44TQA7UAAvRR87AAM4AAIvAAAAAAD/LwA=&quot; sound-font visualizer=&quot;#myVisualizer&quot;&gt;&lt;/midi-player&gt;\n",
       "            &lt;midi-visualizer type=&quot;piano-roll&quot; id=&quot;myVisualizer&quot; style=&quot;background: #fff;&quot;&gt;&lt;/midi-visualizer&gt;\" width=\"100%\" height=\"400\"\n",
       "            style=\"border:none !important;\"\n",
       "            \"allowfullscreen\" \"webkitallowfullscreen\" \"mozallowfullscreen\">'\n",
       "            </iframe>"
      ],
      "text/plain": [
       "<midi_player.midi_player.MIDIPlayer at 0x7f70da607510>"
      ]
     },
     "execution_count": 13,
     "metadata": {},
     "output_type": "execute_result"
    }
   ],
   "source": [
    "# --- Example Usage ---\n",
    "output_dir = \"./outputs\"\n",
    "output_filename = \"generated_midi\"\n",
    "\n",
    "# Generate MIDI sequence and save to file\n",
    "generated_midi_file = generate_midi_sequence_and_file(\n",
    "    prompt_text=prompt,\n",
    "    max_new_tokens=max_new_tokens_to_generate,\n",
    "    top_p=0.95,       # Common value for nucleus sampling\n",
    "    temperature=0.9,  # Slightly reduced temperature often works well with top_p\n",
    "    output_dir=output_dir,\n",
    "    output_filename=output_filename\n",
    ")\n",
    "# Play the generated MIDI file\n",
    "MIDIPlayer(f\"{output_dir}/{output_filename}.mid\", 400, title='Generated MIDI')"
   ]
  },
  {
   "cell_type": "markdown",
   "metadata": {},
   "source": [
    "### 5. Evaluate the Generated MIDI Sequences Quantitatively"
   ]
  },
  {
   "cell_type": "code",
   "execution_count": 14,
   "metadata": {},
   "outputs": [],
   "source": [
    "def evaluate_simplified_midi_file(simplified_midi_path: str, alpha: float = 1.0, beta: float = 1.0, t_ref: int = 480, verbose: bool = True):\n",
    "    \"\"\"Evaluates a simplified MIDI file using the MusicEvaluator class.\"\"\"\n",
    "    evaluator = MusicEvaluator(alpha=alpha, beta=beta, t_ref=t_ref)\n",
    "    with open(simplified_midi_path, \"r\") as f:\n",
    "        simplified_midi = f.read()\n",
    "    result = evaluator.evaluate(simplified_midi)\n",
    "    if verbose:\n",
    "        print(f\"Music Evaluation Results:\")\n",
    "        print(f\"Total Score: {result['total_score']}/20\")\n",
    "        print(f\"Harmonic Score: {result['harmonic_score']}/10\")\n",
    "        print(f\"Duration Score: {result['duration_score']}/5\")\n",
    "        print(f\"Time Score: {result['time_score']}/5\")\n",
    "    \n",
    "    return result"
   ]
  },
  {
   "cell_type": "code",
   "execution_count": 15,
   "metadata": {},
   "outputs": [
    {
     "name": "stdout",
     "output_type": "stream",
     "text": [
      "\n",
      "Music Evaluation Results:\n",
      "Total Score: 18.19/20\n",
      "Harmonic Score: 9.41/10\n",
      "Duration Score: 4.38/5\n",
      "Time Score: 4.4/5\n"
     ]
    }
   ],
   "source": [
    "# --- Example Usage ---\n",
    "output_dir = \"./outputs\"\n",
    "output_filename = \"generated_midi\"\n",
    "\n",
    "# Generate MIDI sequence and save to file\n",
    "generated_midi_file = generate_midi_sequence_and_file(\n",
    "    prompt_text=prompt,\n",
    "    max_new_tokens=max_new_tokens_to_generate,\n",
    "    top_p=0.95,       # Common value for nucleus sampling\n",
    "    temperature=0.9,  # Slightly reduced temperature often works well with top_p\n",
    "    output_dir=output_dir,\n",
    "    output_filename=output_filename\n",
    ")\n",
    "print(\"\")\n",
    "results = evaluate_simplified_midi_file(os.path.join(output_dir, f\"{output_filename}.txt\"))"
   ]
  },
  {
   "cell_type": "markdown",
   "metadata": {},
   "source": [
    "### 6. Do a full scale evaluation of the model"
   ]
  },
  {
   "cell_type": "code",
   "execution_count": 46,
   "metadata": {},
   "outputs": [
    {
     "data": {
      "application/vnd.jupyter.widget-view+json": {
       "model_id": "02731a9742154deaa7b5bdd2fb353360",
       "version_major": 2,
       "version_minor": 0
      },
      "text/plain": [
       "  0%|          | 0/100 [00:00<?, ?it/s]"
      ]
     },
     "metadata": {},
     "output_type": "display_data"
    },
    {
     "name": "stdout",
     "output_type": "stream",
     "text": [
      "\n",
      "--- Average Evaluation Scores ---\n",
      "Total Score: 17.99/20\n",
      "Harmonic Score: 9.62/10\n",
      "Duration Score: 3.84/5\n",
      "Time Score: 4.53/5\n"
     ]
    }
   ],
   "source": [
    "NUMBER_GENERATIONS = 100\n",
    "PLAY_RESULTS = False\n",
    "top_p = 0.95\n",
    "temperature = 0.8\n",
    "\n",
    "# Generate multiple MIDI sequences and evaluate them\n",
    "generated_midi_files = []\n",
    "evaluation_results = []\n",
    "\n",
    "for i in tqdm(range(NUMBER_GENERATIONS)):\n",
    "    output_filename = f\"generated_midi_{i+1}\"\n",
    "    generated_midi_file = generate_midi_sequence_and_file(\n",
    "        prompt_text=prompt,\n",
    "        max_new_tokens=max_new_tokens_to_generate,\n",
    "        top_p=top_p,       # Common value for nucleus sampling\n",
    "        temperature=temperature,  # Slightly reduced temperature often works well with top_p\n",
    "        output_dir=output_dir,\n",
    "        output_filename=output_filename\n",
    "    )\n",
    "    results = evaluate_simplified_midi_file(os.path.join(output_dir, f\"{output_filename}.txt\"), verbose=False)\n",
    "    generated_midi_files.append(generated_midi_file)\n",
    "    evaluation_results.append(results)\n",
    "    \n",
    "# Calculate average scores\n",
    "total_scores = [result[\"total_score\"] for result in evaluation_results]\n",
    "harmonic_scores = [result[\"harmonic_score\"] for result in evaluation_results]\n",
    "duration_scores = [result[\"duration_score\"] for result in evaluation_results]\n",
    "time_scores = [result[\"time_score\"] for result in evaluation_results]\n",
    "\n",
    "average_total_score = sum(total_scores) / len(total_scores)\n",
    "average_harmonic_score = sum(harmonic_scores) / len(harmonic_scores)\n",
    "average_duration_score = sum(duration_scores) / len(duration_scores)\n",
    "average_time_score = sum(time_scores) / len(time_scores)\n",
    "\n",
    "print(f\"\\n--- Average Evaluation Scores ---\")\n",
    "print(f\"Total Score: {average_total_score:.2f}/20\")\n",
    "print(f\"Harmonic Score: {average_harmonic_score:.2f}/10\")\n",
    "print(f\"Duration Score: {average_duration_score:.2f}/5\")\n",
    "print(f\"Time Score: {average_time_score:.2f}/5\")"
   ]
  },
  {
   "cell_type": "markdown",
   "metadata": {},
   "source": [
    "Plot the box plot of the distribution of the metrics for the generated MIDI sequences."
   ]
  },
  {
   "cell_type": "code",
   "execution_count": 48,
   "metadata": {},
   "outputs": [
    {
     "data": {
      "image/png": "[encoded data removed]",
      "text/plain": [
       "<Figure size 1200x1000 with 4 Axes>"
      ]
     },
     "metadata": {},
     "output_type": "display_data"
    }
   ],
   "source": [
    "# Plot the boxplots of all scores\n",
    "fig, ax = plt.subplots(2, 2, figsize=(12, 10))\n",
    "ax = ax.flatten()\n",
    "\n",
    "ax[0].boxplot(total_scores)\n",
    "ax[0].set_title(\"Total Score Distribution\")\n",
    "ax[0].set_ylabel(\"Total Score\")\n",
    "\n",
    "ax[1].boxplot(harmonic_scores)\n",
    "ax[1].set_title(\"Harmonic Score Distribution\")\n",
    "ax[1].set_ylabel(\"Harmonic Score\")\n",
    "\n",
    "ax[2].boxplot(duration_scores)\n",
    "ax[2].set_title(\"Duration Score Distribution\")\n",
    "ax[2].set_ylabel(\"Duration Score\")\n",
    "\n",
    "ax[3].boxplot(time_scores)\n",
    "ax[3].set_title(\"Time Score Distribution\")\n",
    "ax[3].set_ylabel(\"Time Score\")\n",
    "\n",
    "plt.tight_layout()\n",
    "plt.show()"
   ]
  },
  {
   "cell_type": "markdown",
   "metadata": {},
   "source": [
    "Order the results by the metrics and show the best and worst MIDI sequences."
   ]
  },
  {
   "cell_type": "code",
   "execution_count": 74,
   "metadata": {},
   "outputs": [],
   "source": [
    "sorted_results = sorted(enumerate(evaluation_results), key=lambda x: x[1][\"total_score\"], reverse=True)"
   ]
  },
  {
   "cell_type": "code",
   "execution_count": 102,
   "metadata": {},
   "outputs": [
    {
     "name": "stdout",
     "output_type": "stream",
     "text": [
      "Best MIDI Generation (Index 79):\n",
      "Total Score: 19.04/20\n",
      "Harmonic Score: 9.62/10\n",
      "Duration Score: 4.74/5\n",
      "Time Score: 4.69/5\n"
     ]
    },
    {
     "data": {
      "text/html": [
       "<iframe srcdoc=\"&lt;script src=&quot;https://cdn.jsdelivr.net/combine/npm/tone@14.7.58,npm/@magenta/music@1.23.1/es6/core.js,npm/focus-visible@5,npm/html-midi-player@1.5.0&quot;&gt;&lt;/script&gt;  Best MIDI &lt;a href=&quot;data:audio/midi;base64,TVRoZAAAAAYAAQACAYBNVHJrAAAAEwD/UQMHoSAA/1gEBAIYCAH/LwBNVHJrAAACZgCQUl8FS04COk8CUgABSwADOgACTz4HTUwBRk0AT1UCRlUBSlYATwABUE4ATwABRgACRgABUkwATQACRlQCT0gBSgAAUAADUgAFRgACTwAEUEkKUkwAUAAKUEsBUgAOT1cCS1IAUlYDVlUDTwACVgACUgABTU8BUk8AT08ETQACRksAUlYAUgAETwABRgACP0ABV1oCUgAGPwACVwAET0oAUAADSwACUlMFTwACUgAHRksDVl0CSlMAUlcAT1kCSk8ARk4CRgACTVIBSlgAVgAAUgAASgAARgABSgADTwABUloCUlMBUlQCTQAASgADS1EBUgADUgAAUgAASwABT0kBV0oCVlECVwABT0wBVgABRlACP00AVEwBSFEATwABTwACPwABVFEASAABRgAAVAAFUk4AS1AAUkwDVE4BSwABSFACP0oBUgACS0sBUgACVAABPwAASwACUUkASAAITVEDUQACUlEETQADRlACS1MCS04AUgACSwABVAADSwABRgADV04ATVUAVlUASk4ASFQAVFkBV1gBUlYCUlIASgABT1EAV1wCTQABVwABVgAASAAAVwABV00ASFMAVAABVwABVEwATwABUgAAUgAGQUgASAAAVAACWVUATVMAUlEAVwACQUsBQQABTUkAWQABUlcBTQAEUlMAWVIAUgADRlIAQQABTQABSksAQU8AUgAAUgACRgABUlEASFIBUVABWQABTVQASE8AS0cBV1MAS1EAQQABV1QBSAACY04ASgABUQAASAAASwACS04AUgABYwABSwABTQABVwAASwABVwAAAAAA/y8A&quot; target=&quot;_blank&quot;&gt;Download MIDI&lt;/a&gt;&lt;br&gt;\n",
       "            &lt;midi-player src=&quot;data:audio/midi;base64,TVRoZAAAAAYAAQACAYBNVHJrAAAAEwD/UQMHoSAA/1gEBAIYCAH/LwBNVHJrAAACZgCQUl8FS04COk8CUgABSwADOgACTz4HTUwBRk0AT1UCRlUBSlYATwABUE4ATwABRgACRgABUkwATQACRlQCT0gBSgAAUAADUgAFRgACTwAEUEkKUkwAUAAKUEsBUgAOT1cCS1IAUlYDVlUDTwACVgACUgABTU8BUk8AT08ETQACRksAUlYAUgAETwABRgACP0ABV1oCUgAGPwACVwAET0oAUAADSwACUlMFTwACUgAHRksDVl0CSlMAUlcAT1kCSk8ARk4CRgACTVIBSlgAVgAAUgAASgAARgABSgADTwABUloCUlMBUlQCTQAASgADS1EBUgADUgAAUgAASwABT0kBV0oCVlECVwABT0wBVgABRlACP00AVEwBSFEATwABTwACPwABVFEASAABRgAAVAAFUk4AS1AAUkwDVE4BSwABSFACP0oBUgACS0sBUgACVAABPwAASwACUUkASAAITVEDUQACUlEETQADRlACS1MCS04AUgACSwABVAADSwABRgADV04ATVUAVlUASk4ASFQAVFkBV1gBUlYCUlIASgABT1EAV1wCTQABVwABVgAASAAAVwABV00ASFMAVAABVwABVEwATwABUgAAUgAGQUgASAAAVAACWVUATVMAUlEAVwACQUsBQQABTUkAWQABUlcBTQAEUlMAWVIAUgADRlIAQQABTQABSksAQU8AUgAAUgACRgABUlEASFIBUVABWQABTVQASE8AS0cBV1MAS1EAQQABV1QBSAACY04ASgABUQAASAAASwACS04AUgABYwABSwABTQABVwAASwABVwAAAAAA/y8A&quot; sound-font visualizer=&quot;#myVisualizer&quot;&gt;&lt;/midi-player&gt;\n",
       "            &lt;midi-visualizer type=&quot;piano-roll&quot; id=&quot;myVisualizer&quot; style=&quot;background: #fff;&quot;&gt;&lt;/midi-visualizer&gt;\" width=\"100%\" height=\"400\"\n",
       "            style=\"border:none !important;\"\n",
       "            \"allowfullscreen\" \"webkitallowfullscreen\" \"mozallowfullscreen\">'\n",
       "            </iframe>"
      ],
      "text/plain": [
       "<midi_player.midi_player.MIDIPlayer at 0x7f46a5558f90>"
      ]
     },
     "execution_count": 102,
     "metadata": {},
     "output_type": "execute_result"
    }
   ],
   "source": [
    "best_index, best_result = sorted_results[0]\n",
    "print(f\"Best MIDI Generation (Index {best_index + 1}):\")\n",
    "print(f\"Total Score: {best_result['total_score']}/20\")\n",
    "print(f\"Harmonic Score: {best_result['harmonic_score']}/10\")\n",
    "print(f\"Duration Score: {best_result['duration_score']}/5\")\n",
    "print(f\"Time Score: {best_result['time_score']}/5\")\n",
    "MIDIPlayer(f\"{output_dir}/generated_midi_{best_index}.mid\", 400, title='Best MIDI')"
   ]
  },
  {
   "cell_type": "code",
   "execution_count": 103,
   "metadata": {},
   "outputs": [
    {
     "name": "stdout",
     "output_type": "stream",
     "text": [
      "Worst MIDI Generation (Index 23):\n",
      "Total Score: 16.41/20\n",
      "Harmonic Score: 9.07/10\n",
      "Duration Score: 3.45/5\n",
      "Time Score: 3.89/5\n"
     ]
    },
    {
     "data": {
      "text/html": [
       "<iframe srcdoc=\"&lt;script src=&quot;https://cdn.jsdelivr.net/combine/npm/tone@14.7.58,npm/@magenta/music@1.23.1/es6/core.js,npm/focus-visible@5,npm/html-midi-player@1.5.0&quot;&gt;&lt;/script&gt;  Worst MIDI &lt;a href=&quot;data:audio/midi;base64,TVRoZAAAAAYAAQACAYBNVHJrAAAAEwD/UQMHoSAA/1gEBAIYCAH/LwBNVHJrAAACaQCQQ0gAQFAAPEQCMDoAN0ECNEQAQAACNzwBND8AMAAANwACQwABMEIBN0YAQE0APAABMEAANAACN0QANAABN0MANwAAQAABNwAAMAABMD4AN0cBMEYAN0UBND4AK0UAND4AMDkANzwANDoDNwAANwABMAAAKwABNAADNAABMAAANwAANwABMAAAMAAANAABNwCEKzxCATBDACRBAjBDATQ+ACs8ATRAADc+ATBDATRCASs7ACsAATAAATQ7ADwAADQAADQAATAAACQAADQAAStCBDdBADcAATAAACsAAzQAATcAASsAhHw8SwA3RAFAUAIwQQA0RAA3QwArRAA0QwAoRgA0RAAwSAA3TQAwSQE0RwEwRAE3QwE0PwAwAAIwPQE0QwAwAAEoSAA8AAA3AABAAAAwAAE3SQArAAA0AAAoAAA3AAA0AAE0QwA3AAE0AAA0AAAwAAA0AAErPgEwAAA0AAE3AAA3AAE0QQAoAAE3PwArAAE0AAErQAY0AAE3AAMrAIUkNEoBN0QANEgBK0UBNEwAN0cANEABN0cAK0cANAABNEQANEUAMEcANEQANwAANAABN0UBMEMBK0gANwABNEYAMEIAMD0ANAAAMAABNDkANAABN0AAKwABMD4ANEABN0UANAAANwAANAAAMAABMAABKwAANAAAKwABNEEANwAAMAAANwABNAAAMAABMEQANAADNEYBNAABMEAAMAABNwACNz4ANEMAMEMANAACND4ANAABN0MBMAACMEACNz8CNDwANEAANwABNAAAMAABMAABNAABNwAFNwABNAABNAAAAAAA/y8A&quot; target=&quot;_blank&quot;&gt;Download MIDI&lt;/a&gt;&lt;br&gt;\n",
       "            &lt;midi-player src=&quot;data:audio/midi;base64,TVRoZAAAAAYAAQACAYBNVHJrAAAAEwD/UQMHoSAA/1gEBAIYCAH/LwBNVHJrAAACaQCQQ0gAQFAAPEQCMDoAN0ECNEQAQAACNzwBND8AMAAANwACQwABMEIBN0YAQE0APAABMEAANAACN0QANAABN0MANwAAQAABNwAAMAABMD4AN0cBMEYAN0UBND4AK0UAND4AMDkANzwANDoDNwAANwABMAAAKwABNAADNAABMAAANwAANwABMAAAMAAANAABNwCEKzxCATBDACRBAjBDATQ+ACs8ATRAADc+ATBDATRCASs7ACsAATAAATQ7ADwAADQAADQAATAAACQAADQAAStCBDdBADcAATAAACsAAzQAATcAASsAhHw8SwA3RAFAUAIwQQA0RAA3QwArRAA0QwAoRgA0RAAwSAA3TQAwSQE0RwEwRAE3QwE0PwAwAAIwPQE0QwAwAAEoSAA8AAA3AABAAAAwAAE3SQArAAA0AAAoAAA3AAA0AAE0QwA3AAE0AAA0AAAwAAA0AAErPgEwAAA0AAE3AAA3AAE0QQAoAAE3PwArAAE0AAErQAY0AAE3AAMrAIUkNEoBN0QANEgBK0UBNEwAN0cANEABN0cAK0cANAABNEQANEUAMEcANEQANwAANAABN0UBMEMBK0gANwABNEYAMEIAMD0ANAAAMAABNDkANAABN0AAKwABMD4ANEABN0UANAAANwAANAAAMAABMAABKwAANAAAKwABNEEANwAAMAAANwABNAAAMAABMEQANAADNEYBNAABMEAAMAABNwACNz4ANEMAMEMANAACND4ANAABN0MBMAACMEACNz8CNDwANEAANwABNAAAMAABMAABNAABNwAFNwABNAABNAAAAAAA/y8A&quot; sound-font visualizer=&quot;#myVisualizer&quot;&gt;&lt;/midi-player&gt;\n",
       "            &lt;midi-visualizer type=&quot;piano-roll&quot; id=&quot;myVisualizer&quot; style=&quot;background: #fff;&quot;&gt;&lt;/midi-visualizer&gt;\" width=\"100%\" height=\"400\"\n",
       "            style=\"border:none !important;\"\n",
       "            \"allowfullscreen\" \"webkitallowfullscreen\" \"mozallowfullscreen\">'\n",
       "            </iframe>"
      ],
      "text/plain": [
       "<midi_player.midi_player.MIDIPlayer at 0x7f46a56d1b50>"
      ]
     },
     "execution_count": 103,
     "metadata": {},
     "output_type": "execute_result"
    }
   ],
   "source": [
    "worst_index, worst_result = sorted_results[-1]\n",
    "print(f\"Worst MIDI Generation (Index {worst_index + 1}):\")\n",
    "print(f\"Total Score: {worst_result['total_score']}/20\")\n",
    "print(f\"Harmonic Score: {worst_result['harmonic_score']}/10\")\n",
    "print(f\"Duration Score: {worst_result['duration_score']}/5\")\n",
    "print(f\"Time Score: {worst_result['time_score']}/5\")\n",
    "MIDIPlayer(f\"{output_dir}/generated_midi_{worst_index}.mid\", 400, title='Worst MIDI')"
   ]
  },
  {
   "cell_type": "code",
   "execution_count": null,
   "metadata": {},
   "outputs": [],
   "source": []
  }
 ],
 "metadata": {
  "kernelspec": {
   "display_name": "song",
   "language": "python",
   "name": "python3"
  },
  "language_info": {
   "codemirror_mode": {
    "name": "ipython",
    "version": 3
   },
   "file_extension": ".py",
   "mimetype": "text/x-python",
   "name": "python",
   "nbconvert_exporter": "python",
   "pygments_lexer": "ipython3",
   "version": "3.11.11"
  }
 },
 "nbformat": 4,
 "nbformat_minor": 2
}
